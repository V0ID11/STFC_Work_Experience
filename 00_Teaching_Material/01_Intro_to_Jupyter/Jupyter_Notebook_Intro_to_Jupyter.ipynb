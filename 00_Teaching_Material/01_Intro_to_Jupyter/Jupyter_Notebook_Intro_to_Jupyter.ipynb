{
 "cells": [
  {
   "cell_type": "markdown",
   "metadata": {},
   "source": [
    "# Introduction to Jupyter Notebooks \n",
    "---\n",
    "\n",
    "A hands on guide"
   ]
  },
  {
   "cell_type": "markdown",
   "metadata": {},
   "source": [
    "## Cells: blocks of code and more"
   ]
  },
  {
   "cell_type": "markdown",
   "metadata": {},
   "source": [
    "The box below is called a **cell**. This is where we input code to run. This could also be where we input formatted text/images in **Markdown**, or raw text. Everything in this notebook is run in cells. The formatted text that you are reading is written in **Markdown**."
   ]
  },
  {
   "cell_type": "code",
   "execution_count": null,
   "metadata": {},
   "outputs": [],
   "source": []
  },
  {
   "cell_type": "markdown",
   "metadata": {},
   "source": [
    "we know it is a ***code* cell** because it has `In [ ]:` or `In [#]:` (input) in the left margin, where # is a number. The number represents the order in which the cells have been executed, with the latest execution having the largest number."
   ]
  },
  {
   "cell_type": "markdown",
   "metadata": {},
   "source": [
    "---\n",
    "### Command / Edit Mode\n",
    "\n",
    "**Jupyter** operates in two modes:\n",
    "1. **Command Mode**:\n",
    "    - Press `Esc` key\n",
    "    - Cell border is highlighted in BLUE in the left margin\n",
    "2. **Edit Mode**:\n",
    "    - Press `Enter` key on selected cell\n",
    "    - Or double-click the cell\n",
    "    - Cell border is highlighted in GREEN in the left margin\n",
    "    - Now your keystrokes will edit the contents of the cell"
   ]
  },
  {
   "cell_type": "markdown",
   "metadata": {},
   "source": [
    "> ### **In Command Mode press the `h` key to display a keyboard shortcut menu**"
   ]
  },
  {
   "cell_type": "markdown",
   "metadata": {},
   "source": [
    "---\n",
    "### How to select a cell\n",
    "\n",
    "- Mouse: \n",
    "    - single click on the cell you wish to select\n",
    "- Keyboard: \n",
    "    - in **Command Mode** use the up and down arrows\n",
    "- **Taskbar** (under the File/Edit/View/... menu):\n",
    "    - use the up and down arrows to the left of the `Run` button"
   ]
  },
  {
   "cell_type": "markdown",
   "metadata": {},
   "source": [
    "---\n",
    "### How to create a new cell:\n",
    "\n",
    "- In **Command Mode**\n",
    "    - `a` to create a new cell above the selected cell\n",
    "    - `b` to create a new cell below the selected cell\n",
    "    \n",
    "- **Taskbar** (the *File/Edit/View/...* menus)\n",
    "    - ***Insert/ Insert Cell Above*** to create a new cell above the selected cell\n",
    "    - ***Insert/ Insert Cell Below*** to create a new cell below the selected cell"
   ]
  },
  {
   "cell_type": "markdown",
   "metadata": {},
   "source": [
    "---\n",
    "### How to change cell type:\n",
    "- In **Command Mode**\n",
    "    - select cell\n",
    "    - `m` for Markdown\n",
    "    - `y` for code\n",
    "    - `r` for raw text\n",
    "- **Taskbar** (the *File/Edit/View/...* menus)\n",
    "    - ***Cell/Cell Type/ <Code/Markdown/Raw>*** to select"
   ]
  },
  {
   "cell_type": "markdown",
   "metadata": {},
   "source": [
    "---\n",
    "### How to execute (run) a cell:\n",
    "\n",
    "\n",
    "- In **Command Mode**: `Shift` + `Enter`\n",
    "- **Taskbar** (under the File/Edit/View/... menu):\n",
    "    - Select the cell\n",
    "    - Press the `Run` button"
   ]
  },
  {
   "cell_type": "markdown",
   "metadata": {},
   "source": [
    "---\n",
    "### How to delete a cell\n",
    "- In **Command Mode**\n",
    "    - select the required cell\n",
    "    - `d`,`d` to delete\n",
    "    - `z` to undo    \n",
    "    \n",
    "- **Taskbar** (the *File/Edit/View/...* menus)\n",
    "    - ***Edit/ Delete Cells*** to delete\n",
    "    - ***Edit/ Undo Delete Cells*** to undo"
   ]
  },
  {
   "cell_type": "markdown",
   "metadata": {},
   "source": [
    "----\n",
    "### Notes on cells\n",
    "- Once selected in **command mode**:\n",
    "    - `x` cut cell\n",
    "    - `c` copy cell\n",
    "    - `v` paste cell"
   ]
  },
  {
   "cell_type": "markdown",
   "metadata": {},
   "source": [
    "> ## TASK: Get to know cells\n",
    ">---\n",
    "> - [ ] Enter command mode (press `Esc`)\n",
    "> - [ ] Select a position below this cell (use the up and down arrows on your keyboard)\n",
    "> - [ ] Create a new cell (press `a` to create one above the selected cell, `b` for one below)\n",
    "> - [ ] Create some cells above this cell\n",
    "> - [ ] Create some cells below this cell\n",
    "> - [ ] Delete all the new cells except one (press `d` twice in **Command Mode** whilst the cell is selected, `z` to undo)\n",
    "> - [ ] Change the cell type to make a markdown cell - enter the text `Hello world!`, and run it\n",
    "> - [ ] Modify the Markdown cell to raw text, and run it\n",
    "> - [ ] Modify the raw text cell to code, and run it. *What happens? (you'll probably get an error if your text isn't proper python syntax)*\n",
    "> - [ ] Modify the `Hello world` text to `print('Hello world!')` *now it's in python syntax*\n",
    "> - [ ] Run the cell as a code cell"
   ]
  },
  {
   "cell_type": "markdown",
   "metadata": {},
   "source": [
    "---\n",
    "---\n",
    "---\n",
    "## Markdown\n",
    "\n",
    "- Markdown is a superset of HTML, or a text-to-HTML conversion tool, and can be used to format text inside a Jupyter notebook\n",
    "- Many guides exist on the internet, some examples are given below\n",
    "- Select the cell and press `Enter`, or double-click to view the markdown code\n",
    "- Run the cell (select the cell and run via `Return`+ `Enter`) to convert the raw text to markdown\n",
    "\n",
    "#### Useful links\n",
    "- Markdown Guide: https://www.markdownguide.org/\n",
    "- GitLab Markdown Handbook: https://about.gitlab.com/handbook/markdown-guide/\n"
   ]
  },
  {
   "cell_type": "markdown",
   "metadata": {},
   "source": [
    "---\n",
    "### Basic Markdown\n",
    "\n",
    "> **Emphasised Blocks**\n",
    "> \n",
    "> Indenting all text with the greater than key `>` will produce emphasised blocks of text.\n",
    "> A continuous block has a > at the start of all lines (even whitespace)\n",
    "> A gap in `>` looks like this:\n",
    "\n",
    "> New emphasised block\n",
    "\n",
    "> **Lists**\n",
    "> \n",
    "> Lists are made using dashes `-`:\n",
    "> - item 1\n",
    "> - item 2\n",
    ">     - indenting list items creates a sublist\n",
    ">          - sublists can have multiple levels\n",
    "\n",
    "> **Enumerated Lists**\n",
    ">\n",
    "> Similary enumerated lists are made using numbers followed by a full stop `1.`:\n",
    "> 1. first item\n",
    "> 2. second item\n",
    ">     3. indenting enumerated lists changes the index\n",
    ">         4. second level sublist\n",
    "\n",
    "> **Checklists**\n",
    ">\n",
    "> Checklists are made using the `-[ ]` syntax, a completed item is `-[x]`:\n",
    "> - [x] Item completed\n",
    "> - [ ] Item incomplete\n",
    ">     - [ ] sub-checklist item\n",
    ">         - [ ] sub-sub-checklist item"
   ]
  },
  {
   "cell_type": "markdown",
   "metadata": {},
   "source": [
    "---\n",
    "### LaTeX\n",
    "\n",
    "- One can use LaTeX syntax within single dollar symbols \\\\$ (inline) for example:\n",
    "```$\\beta_x$ ``` produces $\\beta_x$.\n",
    "- A full equation environment is encapsulated by double dollar symbols \\$$ such as: ```$$ \\vec{F} = q \\left( \\vec{E} + \\vec{v} \\times \\vec{B}  \\right) $$``` which produces:\n",
    "$$ \\vec{F} = q \\left( \\vec{E} + \\vec{v} \\times \\vec{B}  \\right) $$"
   ]
  },
  {
   "cell_type": "markdown",
   "metadata": {},
   "source": [
    "---\n",
    "### Code Snippets\n",
    "Code can be displayed in a number of formats:\n",
    "\n",
    "- **Monospace**: Code between two single grave accents (\\`) - usually found above the *tab* key on a keyboard. This is useful for displaying filepaths or function names. For example `this is monospace`.\n",
    "- **Code Environment** the interpreter can be given the language used, encapsulating code between two sets of three grave accents (\\`\\`\\`)\n",
    "\n",
    "- python:\n",
    "```python\n",
    "for i in test:\n",
    "    print(i)\n",
    "```\n",
    "- bash:\n",
    "```bash\n",
    "cd test_directory\n",
    "ls -lt\n",
    "mkdir test2\n",
    "rm -rf test2\n",
    "```\n",
    "- C++:\n",
    "```c++\n",
    "for(vector<BPM::Data>::iterator bpm_iter = theBPMBuffer.begin(); bpm_iter != theBPMBuffer.end(); bpm_iter++)\n",
    "\t{\n",
    "\t\tbpmLog << std::setw(14) << (bpm_iter->x).value;\n",
    "\t\tbpmLog << std::setw(14) << (bpm_iter->x).error;\n",
    "\t\tbpmLog << std::setw(14) << (bpm_iter->y).value;\n",
    "\t\tbpmLog << std::setw(14) << (bpm_iter->y).error;\n",
    "\t\tbpmLog << endl;\n",
    "\t}\n",
    "```"
   ]
  },
  {
   "cell_type": "markdown",
   "metadata": {},
   "source": [
    "---\n",
    "\n",
    "### HTML syntax is also available\n",
    "- Note that not all markdown interpreters support this\n",
    "- The following coloured blocks may not work on all platforms"
   ]
  },
  {
   "cell_type": "markdown",
   "metadata": {},
   "source": [
    "<div class=\"alert alert-block alert-info\">\n",
    "<b>Blue:</b> Use blue boxes (alert-info) for whatever you like.\n",
    "</div>"
   ]
  },
  {
   "cell_type": "markdown",
   "metadata": {},
   "source": [
    "<div class=\"alert alert-block alert-warning\">\n",
    "<b>Yellow:</b> Use yellow boxes (alert-warning) for whatever you like.\n",
    "</div>"
   ]
  },
  {
   "cell_type": "markdown",
   "metadata": {},
   "source": [
    "<div class=\"alert alert-block alert-success\">\n",
    "<b>Green:</b> Use green boxes (alert-success) for whatever you like.\n",
    "</div>"
   ]
  },
  {
   "cell_type": "markdown",
   "metadata": {},
   "source": [
    "<div class=\"alert alert-block alert-danger\">\n",
    "<b>Red:</b> Use red boxes (alert-danger) for whatever you like.\n",
    "</div>"
   ]
  },
  {
   "cell_type": "markdown",
   "metadata": {},
   "source": [
    "---\n",
    "### Images\n",
    "\n",
    "- Images can be displayed using the `![alt text](imagename.png \"Title\")` syntax, for example here is the ISIS logo (file located in same directory as notebook):\n",
    "\n",
    "![ISIS](ISIS_Logo.png \"ISIS Logo\")\n",
    "\n",
    "- Hovering over the image with the mouse reveals the title"
   ]
  },
  {
   "cell_type": "markdown",
   "metadata": {},
   "source": [
    "---\n",
    "---\n",
    "---\n"
   ]
  },
  {
   "cell_type": "markdown",
   "metadata": {},
   "source": [
    "## Code"
   ]
  },
  {
   "cell_type": "markdown",
   "metadata": {},
   "source": [
    "### Special functions\n",
    "- The `!` key is used for operating system functions\n",
    "    - `!pwd` is a common Linux command: present working directory displays the full working directory\n",
    "    - `!ls` is a common Linux command: list files in present working directory\n",
    "    \n",
    "- The `%` is used for *magic* commands\n",
    "    - `%run example.py` runs the python script example.py\n",
    "    - `%ls` is the equivalent to `!ls`\n",
    "    - `%lsmagic` lists all available magic commands: **Note many of these are advanced and not recommended**\n",
    "    - `%who` lists all variables\n",
    "    - `%pinfo` provides detailed variable information\n",
    "    - `%pip` is the python package installer, and can be used to install packages inside notebooks\n",
    "    - `%tb` provides a traceback (detailed information) on the last error\n",
    "    - `%env` displays system environment variables (advanced)"
   ]
  },
  {
   "cell_type": "markdown",
   "metadata": {},
   "source": [
    "### Examples of special functions"
   ]
  },
  {
   "cell_type": "markdown",
   "metadata": {},
   "source": [
    "- Check our present working directory"
   ]
  },
  {
   "cell_type": "code",
   "execution_count": null,
   "metadata": {},
   "outputs": [],
   "source": [
    "!pwd"
   ]
  },
  {
   "cell_type": "markdown",
   "metadata": {},
   "source": [
    "- If you have the linux program `tree` this command should display the folder structure"
   ]
  },
  {
   "cell_type": "code",
   "execution_count": null,
   "metadata": {},
   "outputs": [],
   "source": [
    "!tree"
   ]
  },
  {
   "cell_type": "markdown",
   "metadata": {},
   "source": [
    "- Use the linux list command"
   ]
  },
  {
   "cell_type": "code",
   "execution_count": null,
   "metadata": {},
   "outputs": [],
   "source": [
    "!ls"
   ]
  },
  {
   "cell_type": "markdown",
   "metadata": {},
   "source": [
    "- Use the magic list command:"
   ]
  },
  {
   "cell_type": "code",
   "execution_count": null,
   "metadata": {},
   "outputs": [],
   "source": [
    "%ls"
   ]
  },
  {
   "cell_type": "markdown",
   "metadata": {},
   "source": [
    "- View all available magic commands:"
   ]
  },
  {
   "cell_type": "code",
   "execution_count": null,
   "metadata": {},
   "outputs": [],
   "source": [
    "%lsmagic"
   ]
  },
  {
   "cell_type": "markdown",
   "metadata": {},
   "source": [
    "- Show all code variables"
   ]
  },
  {
   "cell_type": "code",
   "execution_count": null,
   "metadata": {},
   "outputs": [],
   "source": [
    "%who"
   ]
  },
  {
   "cell_type": "markdown",
   "metadata": {},
   "source": [
    "- This should be empty unless you've created new variables\n",
    "- Let's create an integer called x"
   ]
  },
  {
   "cell_type": "code",
   "execution_count": null,
   "metadata": {},
   "outputs": [],
   "source": [
    "x = 7"
   ]
  },
  {
   "cell_type": "markdown",
   "metadata": {},
   "source": [
    "- Show all code variables"
   ]
  },
  {
   "cell_type": "code",
   "execution_count": null,
   "metadata": {},
   "outputs": [],
   "source": [
    "%who"
   ]
  },
  {
   "cell_type": "markdown",
   "metadata": {},
   "source": [
    "- The following command will show a detailed information window for the variable x"
   ]
  },
  {
   "cell_type": "code",
   "execution_count": null,
   "metadata": {},
   "outputs": [],
   "source": [
    "%pinfo x"
   ]
  },
  {
   "cell_type": "markdown",
   "metadata": {},
   "source": [
    "- Generate a traceback from the last error"
   ]
  },
  {
   "cell_type": "code",
   "execution_count": null,
   "metadata": {},
   "outputs": [],
   "source": [
    "%tb"
   ]
  },
  {
   "cell_type": "markdown",
   "metadata": {},
   "source": [
    "- Change colour scheme (for prompts, info system and exception handlers)\n",
    "- Generate a traceback from the last error"
   ]
  },
  {
   "cell_type": "code",
   "execution_count": null,
   "metadata": {},
   "outputs": [],
   "source": [
    "%colors linux"
   ]
  },
  {
   "cell_type": "code",
   "execution_count": null,
   "metadata": {},
   "outputs": [],
   "source": [
    "%tb"
   ]
  },
  {
   "cell_type": "markdown",
   "metadata": {},
   "source": [
    "- Change colour scheme (for prompts, info system and exception handlers) back to default\n",
    "- Generate a traceback from the last error"
   ]
  },
  {
   "cell_type": "code",
   "execution_count": null,
   "metadata": {},
   "outputs": [],
   "source": [
    "%colors lightbg"
   ]
  },
  {
   "cell_type": "code",
   "execution_count": null,
   "metadata": {},
   "outputs": [],
   "source": [
    "%tb"
   ]
  },
  {
   "cell_type": "markdown",
   "metadata": {},
   "source": [
    "- Display all active environment variables"
   ]
  },
  {
   "cell_type": "code",
   "execution_count": null,
   "metadata": {},
   "outputs": [],
   "source": [
    "%env"
   ]
  },
  {
   "cell_type": "markdown",
   "metadata": {},
   "source": [
    "### Python"
   ]
  },
  {
   "cell_type": "markdown",
   "metadata": {},
   "source": [
    "We can run python code in cells"
   ]
  },
  {
   "cell_type": "code",
   "execution_count": null,
   "metadata": {},
   "outputs": [],
   "source": [
    "print('Hello world!')"
   ]
  },
  {
   "cell_type": "markdown",
   "metadata": {},
   "source": [
    "We can import libraries and use them - let's plot something with MatPlotLib"
   ]
  },
  {
   "cell_type": "code",
   "execution_count": null,
   "metadata": {},
   "outputs": [],
   "source": [
    "import numpy as np\n",
    "import matplotlib.pyplot as plot"
   ]
  },
  {
   "cell_type": "code",
   "execution_count": null,
   "metadata": {},
   "outputs": [],
   "source": [
    "# Get x values of the sine wave\n",
    "time        = np.arange(0, 10, 0.1);\n",
    " \n",
    "\n",
    "# Amplitude of the sine wave is sine of a variable like time\n",
    "amplitude   = np.sin(time)\n",
    "\n",
    " # Plot a sine wave using time and amplitude obtained for the sine wave\n",
    "plot.plot(time, amplitude)\n",
    " \n",
    "# Give a title for the sine wave plot\n",
    "plot.title('Sine wave') \n",
    "\n",
    "# Give x axis label for the sine wave plot\n",
    "plot.xlabel('Time')\n",
    "\n",
    "# Give y axis label for the sine wave plot\n",
    "plot.ylabel('Amplitude = sin(time)')\n",
    " \n",
    "# Add gridlines\n",
    "plot.grid(True, which='both')\n",
    "\n",
    "# Add horizontal black line at y=0\n",
    "plot.axhline(y=0, color='k');"
   ]
  },
  {
   "cell_type": "markdown",
   "metadata": {},
   "source": [
    "- use Bash to find the PyParticleBunch.py library"
   ]
  },
  {
   "cell_type": "code",
   "execution_count": null,
   "metadata": {},
   "outputs": [],
   "source": [
    "!ls ../"
   ]
  },
  {
   "cell_type": "code",
   "execution_count": null,
   "metadata": {},
   "outputs": [],
   "source": [
    "!ls ../03_Intro_to_PyParticleBunch/"
   ]
  },
  {
   "cell_type": "markdown",
   "metadata": {},
   "source": [
    "We can run python files (.py) or notebooks (.ipynb) within a notebook like so:"
   ]
  },
  {
   "cell_type": "code",
   "execution_count": null,
   "metadata": {},
   "outputs": [],
   "source": [
    "import os\n",
    "\n",
    "# Different syntax on windows/linux\n",
    "if os.name=='nt': # Windows\n",
    "    %run ../03_Intro_to_PyParticleBunch/PyParticleBunch.py\n",
    "else: # Linux    \n",
    "    %run '../03_Intro_to_PyParticleBunch/PyParticleBunch.py'"
   ]
  },
  {
   "cell_type": "markdown",
   "metadata": {},
   "source": [
    "Generate a uniform 2D `ParticleBunch` object using PyParticleBunch"
   ]
  },
  {
   "cell_type": "code",
   "execution_count": null,
   "metadata": {},
   "outputs": [],
   "source": [
    "n = 1E5\n",
    "min_x = -2E-3\n",
    "max_x = 1E-3\n",
    "min_y = 3E-3\n",
    "max_y = 6E-3\n",
    "HV_UniformBunch = ParticleBunch.Uniform_2D(n, min_x, max_x, min_y, max_y)"
   ]
  },
  {
   "cell_type": "markdown",
   "metadata": {},
   "source": [
    "Plot the generated `ParticleBunch` distribution using the function `ParticleBunch.plot_heatmap`"
   ]
  },
  {
   "cell_type": "code",
   "execution_count": null,
   "metadata": {},
   "outputs": [],
   "source": [
    "HV_UniformBunch.plot_heatmap('x', 'y', '2D_uniform.png','Uniform x-y real space')"
   ]
  },
  {
   "cell_type": "code",
   "execution_count": null,
   "metadata": {},
   "outputs": [],
   "source": []
  }
 ],
 "metadata": {
  "kernelspec": {
   "display_name": "Python 3",
   "language": "python",
   "name": "python3"
  },
  "language_info": {
   "codemirror_mode": {
    "name": "ipython",
    "version": 3
   },
   "file_extension": ".py",
   "mimetype": "text/x-python",
   "name": "python",
   "nbconvert_exporter": "python",
   "pygments_lexer": "ipython3",
   "version": "3.10.4"
  }
 },
 "nbformat": 4,
 "nbformat_minor": 4
}
