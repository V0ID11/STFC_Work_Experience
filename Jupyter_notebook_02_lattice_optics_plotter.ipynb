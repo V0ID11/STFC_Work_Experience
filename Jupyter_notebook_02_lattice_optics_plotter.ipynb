{
 "cells": [
  {
   "cell_type": "markdown",
   "metadata": {},
   "source": [
    "# Project 02: cPyMAD: Lattice Parameters (Optics) Plotting Widget\n",
    "---"
   ]
  },
  {
   "cell_type": "markdown",
   "metadata": {},
   "source": [
    "## Prerequisites\n",
    "Please complete the courses in ../00_Teaching_Material before attempting this project\n",
    "\n",
    "- [ ] Introduction to Jupyter Notebooks\n",
    "- [ ] Introduction to PyParticleBunch\n",
    "- [ ] Introduction to Plotting with MatPlotLib\n",
    "\n",
    "### Optional\n",
    "- [ ] Introduction to iPython widgets"
   ]
  },
  {
   "cell_type": "markdown",
   "metadata": {},
   "source": [
    "---\n",
    "# Suggested Approach to Projects:"
   ]
  },
  {
   "cell_type": "markdown",
   "metadata": {},
   "source": [
    "<div class=\"alert alert-block alert-success\">\n",
    "<b>Step 1 (Easy)</b> Prototype your code: play with python until it does what you want it to do!\n",
    "</div>"
   ]
  },
  {
   "cell_type": "markdown",
   "metadata": {},
   "source": [
    "<div class=\"alert alert-block alert-warning\">\n",
    "<b>Step 2 (Moderate):</b> Functions: convert your working messy code into nice clean functions, remember to think carefully about function and variable names, inputs to the function (arguments), and what it outputs.\n",
    "</div>"
   ]
  },
  {
   "cell_type": "markdown",
   "metadata": {},
   "source": [
    "<div class=\"alert alert-block alert-danger\">\n",
    "<b>Step 3 (Advanced) </b> Widget: try to use iPython widgets to turn your functions into a GUI (graphical user interface)\n",
    "</div>"
   ]
  },
  {
   "cell_type": "markdown",
   "metadata": {},
   "source": [
    "# Project Goal:\n",
    "\n",
    "To produce a widget that reads a cPyMAD lattice (TFS) file, and plots the required parameters.\n",
    "\n",
    "Things to consider:\n",
    "- Most parameters stored in a TFS plot should be displayed as a regular line plot (plt.plot)\n",
    "- Which parameter are we plotting?\n",
    "- What are the corresponding axis labels, title, axis limits?\n",
    "- Do we want to add a grid or legend to the plot?\n",
    "- What is the saved plot filename?"
   ]
  },
  {
   "cell_type": "markdown",
   "metadata": {},
   "source": [
    "---\n",
    "# Example Code"
   ]
  },
  {
   "cell_type": "code",
   "execution_count": 1,
   "metadata": {},
   "outputs": [],
   "source": [
    "import ipywidgets as widgets\n",
    "\n",
    "# Needed to siplay the widget in our notebook\n",
    "from IPython.display import display\n",
    "\n",
    "import pandas as pd\n",
    "import numpy as np\n",
    "\n",
    "import matplotlib.pyplot as plt\n",
    "\n",
    "import tfs"
   ]
  },
  {
   "cell_type": "markdown",
   "metadata": {},
   "source": [
    "## Read TFS table"
   ]
  },
  {
   "cell_type": "code",
   "execution_count": 2,
   "metadata": {},
   "outputs": [],
   "source": [
    "input_filename = 'Inputs/injection_bump_on.tfs'"
   ]
  },
  {
   "cell_type": "code",
   "execution_count": 3,
   "metadata": {},
   "outputs": [],
   "source": [
    "input_tfs = tfs.reader.read_tfs(input_filename)"
   ]
  },
  {
   "cell_type": "code",
   "execution_count": 4,
   "metadata": {},
   "outputs": [
    {
     "data": {
      "text/html": [
       "<div>\n",
       "<style scoped>\n",
       "    .dataframe tbody tr th:only-of-type {\n",
       "        vertical-align: middle;\n",
       "    }\n",
       "\n",
       "    .dataframe tbody tr th {\n",
       "        vertical-align: top;\n",
       "    }\n",
       "\n",
       "    .dataframe thead th {\n",
       "        text-align: right;\n",
       "    }\n",
       "</style>\n",
       "<table border=\"1\" class=\"dataframe\">\n",
       "  <thead>\n",
       "    <tr style=\"text-align: right;\">\n",
       "      <th></th>\n",
       "      <th>KEYWORD</th>\n",
       "      <th>NAME</th>\n",
       "      <th>S</th>\n",
       "      <th>L</th>\n",
       "      <th>BETX</th>\n",
       "      <th>ALFX</th>\n",
       "      <th>MUX</th>\n",
       "      <th>BETY</th>\n",
       "      <th>ALFY</th>\n",
       "      <th>MUY</th>\n",
       "      <th>...</th>\n",
       "      <th>BETA33</th>\n",
       "      <th>ALFA11</th>\n",
       "      <th>ALFA12</th>\n",
       "      <th>ALFA13</th>\n",
       "      <th>ALFA21</th>\n",
       "      <th>ALFA22</th>\n",
       "      <th>DISP1</th>\n",
       "      <th>DISP2</th>\n",
       "      <th>DISP3</th>\n",
       "      <th>DISP4</th>\n",
       "    </tr>\n",
       "  </thead>\n",
       "  <tbody>\n",
       "    <tr>\n",
       "      <th>0</th>\n",
       "      <td>MARKER</td>\n",
       "      <td>SYNCHROTRON$START</td>\n",
       "      <td>0.00000</td>\n",
       "      <td>0.00</td>\n",
       "      <td>10.432928</td>\n",
       "      <td>0.743095</td>\n",
       "      <td>0.000000</td>\n",
       "      <td>5.928609</td>\n",
       "      <td>-1.113632</td>\n",
       "      <td>0.000000</td>\n",
       "      <td>...</td>\n",
       "      <td>0.0</td>\n",
       "      <td>0.0</td>\n",
       "      <td>0.0</td>\n",
       "      <td>0.0</td>\n",
       "      <td>0.0</td>\n",
       "      <td>0.0</td>\n",
       "      <td>0.0</td>\n",
       "      <td>0.0</td>\n",
       "      <td>0.0</td>\n",
       "      <td>0.0</td>\n",
       "    </tr>\n",
       "    <tr>\n",
       "      <th>1</th>\n",
       "      <td>MARKER</td>\n",
       "      <td>SP0_DATUM</td>\n",
       "      <td>0.00000</td>\n",
       "      <td>0.00</td>\n",
       "      <td>10.432928</td>\n",
       "      <td>0.743095</td>\n",
       "      <td>0.000000</td>\n",
       "      <td>5.928609</td>\n",
       "      <td>-1.113632</td>\n",
       "      <td>0.000000</td>\n",
       "      <td>...</td>\n",
       "      <td>0.0</td>\n",
       "      <td>0.0</td>\n",
       "      <td>0.0</td>\n",
       "      <td>0.0</td>\n",
       "      <td>0.0</td>\n",
       "      <td>0.0</td>\n",
       "      <td>0.0</td>\n",
       "      <td>0.0</td>\n",
       "      <td>0.0</td>\n",
       "      <td>0.0</td>\n",
       "    </tr>\n",
       "    <tr>\n",
       "      <th>2</th>\n",
       "      <td>SBEND</td>\n",
       "      <td>SP0_DIPFR8</td>\n",
       "      <td>0.16000</td>\n",
       "      <td>0.16</td>\n",
       "      <td>10.195541</td>\n",
       "      <td>0.740409</td>\n",
       "      <td>0.002469</td>\n",
       "      <td>6.296385</td>\n",
       "      <td>-1.185182</td>\n",
       "      <td>0.004169</td>\n",
       "      <td>...</td>\n",
       "      <td>0.0</td>\n",
       "      <td>0.0</td>\n",
       "      <td>0.0</td>\n",
       "      <td>0.0</td>\n",
       "      <td>0.0</td>\n",
       "      <td>0.0</td>\n",
       "      <td>0.0</td>\n",
       "      <td>0.0</td>\n",
       "      <td>0.0</td>\n",
       "      <td>0.0</td>\n",
       "    </tr>\n",
       "    <tr>\n",
       "      <th>3</th>\n",
       "      <td>SBEND</td>\n",
       "      <td>SP0_DIPFR9</td>\n",
       "      <td>0.36000</td>\n",
       "      <td>0.20</td>\n",
       "      <td>9.905764</td>\n",
       "      <td>0.708493</td>\n",
       "      <td>0.005637</td>\n",
       "      <td>6.785519</td>\n",
       "      <td>-1.260463</td>\n",
       "      <td>0.009039</td>\n",
       "      <td>...</td>\n",
       "      <td>0.0</td>\n",
       "      <td>0.0</td>\n",
       "      <td>0.0</td>\n",
       "      <td>0.0</td>\n",
       "      <td>0.0</td>\n",
       "      <td>0.0</td>\n",
       "      <td>0.0</td>\n",
       "      <td>0.0</td>\n",
       "      <td>0.0</td>\n",
       "      <td>0.0</td>\n",
       "    </tr>\n",
       "    <tr>\n",
       "      <th>4</th>\n",
       "      <td>SBEND</td>\n",
       "      <td>SP0_DIPFR10</td>\n",
       "      <td>0.39000</td>\n",
       "      <td>0.03</td>\n",
       "      <td>9.863400</td>\n",
       "      <td>0.703631</td>\n",
       "      <td>0.006120</td>\n",
       "      <td>6.861483</td>\n",
       "      <td>-1.271688</td>\n",
       "      <td>0.009739</td>\n",
       "      <td>...</td>\n",
       "      <td>0.0</td>\n",
       "      <td>0.0</td>\n",
       "      <td>0.0</td>\n",
       "      <td>0.0</td>\n",
       "      <td>0.0</td>\n",
       "      <td>0.0</td>\n",
       "      <td>0.0</td>\n",
       "      <td>0.0</td>\n",
       "      <td>0.0</td>\n",
       "      <td>0.0</td>\n",
       "    </tr>\n",
       "    <tr>\n",
       "      <th>...</th>\n",
       "      <td>...</td>\n",
       "      <td>...</td>\n",
       "      <td>...</td>\n",
       "      <td>...</td>\n",
       "      <td>...</td>\n",
       "      <td>...</td>\n",
       "      <td>...</td>\n",
       "      <td>...</td>\n",
       "      <td>...</td>\n",
       "      <td>...</td>\n",
       "      <td>...</td>\n",
       "      <td>...</td>\n",
       "      <td>...</td>\n",
       "      <td>...</td>\n",
       "      <td>...</td>\n",
       "      <td>...</td>\n",
       "      <td>...</td>\n",
       "      <td>...</td>\n",
       "      <td>...</td>\n",
       "      <td>...</td>\n",
       "      <td>...</td>\n",
       "    </tr>\n",
       "    <tr>\n",
       "      <th>675</th>\n",
       "      <td>SBEND</td>\n",
       "      <td>SP9_DIP6</td>\n",
       "      <td>163.12282</td>\n",
       "      <td>0.06</td>\n",
       "      <td>10.759111</td>\n",
       "      <td>0.588435</td>\n",
       "      <td>4.307433</td>\n",
       "      <td>5.432725</td>\n",
       "      <td>-0.943493</td>\n",
       "      <td>3.823261</td>\n",
       "      <td>...</td>\n",
       "      <td>0.0</td>\n",
       "      <td>0.0</td>\n",
       "      <td>0.0</td>\n",
       "      <td>0.0</td>\n",
       "      <td>0.0</td>\n",
       "      <td>0.0</td>\n",
       "      <td>0.0</td>\n",
       "      <td>0.0</td>\n",
       "      <td>0.0</td>\n",
       "      <td>0.0</td>\n",
       "    </tr>\n",
       "    <tr>\n",
       "      <th>676</th>\n",
       "      <td>SBEND</td>\n",
       "      <td>SP9_DIPFR6</td>\n",
       "      <td>163.32282</td>\n",
       "      <td>0.20</td>\n",
       "      <td>10.492396</td>\n",
       "      <td>0.743612</td>\n",
       "      <td>4.310428</td>\n",
       "      <td>5.840227</td>\n",
       "      <td>-1.095944</td>\n",
       "      <td>3.828916</td>\n",
       "      <td>...</td>\n",
       "      <td>0.0</td>\n",
       "      <td>0.0</td>\n",
       "      <td>0.0</td>\n",
       "      <td>0.0</td>\n",
       "      <td>0.0</td>\n",
       "      <td>0.0</td>\n",
       "      <td>0.0</td>\n",
       "      <td>0.0</td>\n",
       "      <td>0.0</td>\n",
       "      <td>0.0</td>\n",
       "    </tr>\n",
       "    <tr>\n",
       "      <th>677</th>\n",
       "      <td>SBEND</td>\n",
       "      <td>SP9_DIPFR7</td>\n",
       "      <td>163.36282</td>\n",
       "      <td>0.04</td>\n",
       "      <td>10.432928</td>\n",
       "      <td>0.743095</td>\n",
       "      <td>4.311036</td>\n",
       "      <td>5.928609</td>\n",
       "      <td>-1.113632</td>\n",
       "      <td>3.829998</td>\n",
       "      <td>...</td>\n",
       "      <td>0.0</td>\n",
       "      <td>0.0</td>\n",
       "      <td>0.0</td>\n",
       "      <td>0.0</td>\n",
       "      <td>0.0</td>\n",
       "      <td>0.0</td>\n",
       "      <td>0.0</td>\n",
       "      <td>0.0</td>\n",
       "      <td>0.0</td>\n",
       "      <td>0.0</td>\n",
       "    </tr>\n",
       "    <tr>\n",
       "      <th>678</th>\n",
       "      <td>MARKER</td>\n",
       "      <td>SP9_END</td>\n",
       "      <td>163.36282</td>\n",
       "      <td>0.00</td>\n",
       "      <td>10.432928</td>\n",
       "      <td>0.743095</td>\n",
       "      <td>4.311036</td>\n",
       "      <td>5.928609</td>\n",
       "      <td>-1.113632</td>\n",
       "      <td>3.829998</td>\n",
       "      <td>...</td>\n",
       "      <td>0.0</td>\n",
       "      <td>0.0</td>\n",
       "      <td>0.0</td>\n",
       "      <td>0.0</td>\n",
       "      <td>0.0</td>\n",
       "      <td>0.0</td>\n",
       "      <td>0.0</td>\n",
       "      <td>0.0</td>\n",
       "      <td>0.0</td>\n",
       "      <td>0.0</td>\n",
       "    </tr>\n",
       "    <tr>\n",
       "      <th>679</th>\n",
       "      <td>MARKER</td>\n",
       "      <td>SYNCHROTRON$END</td>\n",
       "      <td>163.36282</td>\n",
       "      <td>0.00</td>\n",
       "      <td>10.432928</td>\n",
       "      <td>0.743095</td>\n",
       "      <td>4.311036</td>\n",
       "      <td>5.928609</td>\n",
       "      <td>-1.113632</td>\n",
       "      <td>3.829998</td>\n",
       "      <td>...</td>\n",
       "      <td>0.0</td>\n",
       "      <td>0.0</td>\n",
       "      <td>0.0</td>\n",
       "      <td>0.0</td>\n",
       "      <td>0.0</td>\n",
       "      <td>0.0</td>\n",
       "      <td>0.0</td>\n",
       "      <td>0.0</td>\n",
       "      <td>0.0</td>\n",
       "      <td>0.0</td>\n",
       "    </tr>\n",
       "  </tbody>\n",
       "</table>\n",
       "<p>680 rows × 99 columns</p>\n",
       "</div>"
      ],
      "text/plain": [
       "Headers:\n",
       "    NAME: TWISS\n",
       "    TYPE: TWISS\n",
       "    SEQUENCE: SYNCHROTRON\n",
       "    ...\n",
       "    ORIGIN: 5.07.00 Linux 64\n",
       "    DATE: 21/02/22\n",
       "    TIME: 15.22.35\n",
       "\n",
       "    KEYWORD               NAME          S     L       BETX      ALFX  \\\n",
       "0    MARKER  SYNCHROTRON$START    0.00000  0.00  10.432928  0.743095   \n",
       "1    MARKER          SP0_DATUM    0.00000  0.00  10.432928  0.743095   \n",
       "2     SBEND         SP0_DIPFR8    0.16000  0.16  10.195541  0.740409   \n",
       "3     SBEND         SP0_DIPFR9    0.36000  0.20   9.905764  0.708493   \n",
       "4     SBEND        SP0_DIPFR10    0.39000  0.03   9.863400  0.703631   \n",
       "..      ...                ...        ...   ...        ...       ...   \n",
       "675   SBEND           SP9_DIP6  163.12282  0.06  10.759111  0.588435   \n",
       "676   SBEND         SP9_DIPFR6  163.32282  0.20  10.492396  0.743612   \n",
       "677   SBEND         SP9_DIPFR7  163.36282  0.04  10.432928  0.743095   \n",
       "678  MARKER            SP9_END  163.36282  0.00  10.432928  0.743095   \n",
       "679  MARKER    SYNCHROTRON$END  163.36282  0.00  10.432928  0.743095   \n",
       "\n",
       "          MUX      BETY      ALFY       MUY  ...  BETA33  ALFA11  ALFA12  \\\n",
       "0    0.000000  5.928609 -1.113632  0.000000  ...     0.0     0.0     0.0   \n",
       "1    0.000000  5.928609 -1.113632  0.000000  ...     0.0     0.0     0.0   \n",
       "2    0.002469  6.296385 -1.185182  0.004169  ...     0.0     0.0     0.0   \n",
       "3    0.005637  6.785519 -1.260463  0.009039  ...     0.0     0.0     0.0   \n",
       "4    0.006120  6.861483 -1.271688  0.009739  ...     0.0     0.0     0.0   \n",
       "..        ...       ...       ...       ...  ...     ...     ...     ...   \n",
       "675  4.307433  5.432725 -0.943493  3.823261  ...     0.0     0.0     0.0   \n",
       "676  4.310428  5.840227 -1.095944  3.828916  ...     0.0     0.0     0.0   \n",
       "677  4.311036  5.928609 -1.113632  3.829998  ...     0.0     0.0     0.0   \n",
       "678  4.311036  5.928609 -1.113632  3.829998  ...     0.0     0.0     0.0   \n",
       "679  4.311036  5.928609 -1.113632  3.829998  ...     0.0     0.0     0.0   \n",
       "\n",
       "     ALFA13  ALFA21  ALFA22  DISP1  DISP2  DISP3  DISP4  \n",
       "0       0.0     0.0     0.0    0.0    0.0    0.0    0.0  \n",
       "1       0.0     0.0     0.0    0.0    0.0    0.0    0.0  \n",
       "2       0.0     0.0     0.0    0.0    0.0    0.0    0.0  \n",
       "3       0.0     0.0     0.0    0.0    0.0    0.0    0.0  \n",
       "4       0.0     0.0     0.0    0.0    0.0    0.0    0.0  \n",
       "..      ...     ...     ...    ...    ...    ...    ...  \n",
       "675     0.0     0.0     0.0    0.0    0.0    0.0    0.0  \n",
       "676     0.0     0.0     0.0    0.0    0.0    0.0    0.0  \n",
       "677     0.0     0.0     0.0    0.0    0.0    0.0    0.0  \n",
       "678     0.0     0.0     0.0    0.0    0.0    0.0    0.0  \n",
       "679     0.0     0.0     0.0    0.0    0.0    0.0    0.0  \n",
       "\n",
       "[680 rows x 99 columns]"
      ]
     },
     "execution_count": 4,
     "metadata": {},
     "output_type": "execute_result"
    }
   ],
   "source": [
    "input_tfs"
   ]
  },
  {
   "cell_type": "markdown",
   "metadata": {},
   "source": [
    "## Widget definition "
   ]
  },
  {
   "cell_type": "markdown",
   "metadata": {},
   "source": [
    "#### Output handlers"
   ]
  },
  {
   "cell_type": "code",
   "execution_count": 5,
   "metadata": {},
   "outputs": [],
   "source": [
    "output = widgets.Output()\n",
    "plot_output = widgets.Output()"
   ]
  },
  {
   "cell_type": "markdown",
   "metadata": {},
   "source": [
    "#### Dropdown to select TFS column "
   ]
  },
  {
   "cell_type": "code",
   "execution_count": null,
   "metadata": {},
   "outputs": [],
   "source": []
  },
  {
   "cell_type": "code",
   "execution_count": null,
   "metadata": {},
   "outputs": [],
   "source": []
  },
  {
   "cell_type": "code",
   "execution_count": null,
   "metadata": {},
   "outputs": [],
   "source": []
  },
  {
   "cell_type": "code",
   "execution_count": 6,
   "metadata": {},
   "outputs": [
    {
     "ename": "NameError",
     "evalue": "name 'input_t9fs' is not defined",
     "output_type": "error",
     "traceback": [
      "\u001b[1;31m---------------------------------------------------------------------------\u001b[0m",
      "\u001b[1;31mNameError\u001b[0m                                 Traceback (most recent call last)",
      "Input \u001b[1;32mIn [6]\u001b[0m, in \u001b[0;36m<cell line: 1>\u001b[1;34m()\u001b[0m\n\u001b[1;32m----> 1\u001b[0m dd_column \u001b[38;5;241m=\u001b[39m widgets\u001b[38;5;241m.\u001b[39mDropdown(options \u001b[38;5;241m=\u001b[39m \u001b[43minput_t9fs\u001b[49m\u001b[38;5;241m.\u001b[39mkeys())\n",
      "\u001b[1;31mNameError\u001b[0m: name 'input_t9fs' is not defined"
     ]
    }
   ],
   "source": [
    "dd_column = widgets.Dropdown(options = input_t9fs.keys())"
   ]
  },
  {
   "cell_type": "markdown",
   "metadata": {},
   "source": [
    "#### Slider for S range"
   ]
  },
  {
   "cell_type": "code",
   "execution_count": null,
   "metadata": {},
   "outputs": [],
   "source": [
    "def generate_tfs_slider(df):\n",
    "    tfs_slider = widgets.IntRangeSlider(\n",
    "    value=[0, 16],\n",
    "    min=np.min(df.S),\n",
    "    max=np.max(df.S+10),\n",
    "    step=5,\n",
    "    description='S Range:',\n",
    "    disabled=False,\n",
    "    continuous_update=False,\n",
    "    orientation='horizontal',\n",
    "    readout=True,\n",
    "    readout_format='d',\n",
    "    )\n",
    "    return tfs_slider"
   ]
  },
  {
   "cell_type": "code",
   "execution_count": null,
   "metadata": {},
   "outputs": [],
   "source": [
    "tfs_s_slider = generate_tfs_slider(input_tfs)"
   ]
  },
  {
   "cell_type": "markdown",
   "metadata": {},
   "source": [
    "#### Slider for y range"
   ]
  },
  {
   "cell_type": "code",
   "execution_count": null,
   "metadata": {},
   "outputs": [],
   "source": [
    "tfs_y_slider = widgets.IntRangeSlider(\n",
    "value=[0, 50],\n",
    "min=-100,\n",
    "max=100,\n",
    "step=10,\n",
    "description='Y Range:',\n",
    "disabled=False,\n",
    "continuous_update=False,\n",
    "orientation='vertical',\n",
    "readout=True,\n",
    "readout_format='d',\n",
    ")"
   ]
  },
  {
   "cell_type": "markdown",
   "metadata": {},
   "source": [
    "#### Button to savefig"
   ]
  },
  {
   "cell_type": "code",
   "execution_count": null,
   "metadata": {},
   "outputs": [],
   "source": [
    "save_button = widgets.Button(description=\"Savefig\")"
   ]
  },
  {
   "cell_type": "markdown",
   "metadata": {},
   "source": [
    "#### Plotting function "
   ]
  },
  {
   "cell_type": "code",
   "execution_count": 8,
   "metadata": {},
   "outputs": [
    {
     "ename": "SyntaxError",
     "evalue": "unexpected EOF while parsing (863589316.py, line 114)",
     "output_type": "error",
     "traceback": [
      "\u001b[1;36m  Input \u001b[1;32mIn [8]\u001b[1;36m\u001b[0m\n\u001b[1;33m    if save_fig:fig1.savefig(str(custom_fname)+'.png', dpi=200\u001b[0m\n\u001b[1;37m                                                              ^\u001b[0m\n\u001b[1;31mSyntaxError\u001b[0m\u001b[1;31m:\u001b[0m unexpected EOF while parsing\n"
     ]
    }
   ],
   "source": [
    " def madx_tfs_plot_widget(key, key2, xlimits, ylimits, ylimits2, df, df2, custom_fname, custom_title, save_fig=False):\n",
    "    output.clear_output()\n",
    "    plot_output.clear_output()\n",
    "    loop_range = 1\n",
    "    global second_plot\n",
    "    key_list = [key, key2]\n",
    "    ylab = []\n",
    "    lw = []\n",
    "    \n",
    "    if second_plot == True:\n",
    "        loop_range = 2\n",
    "    for i in range(loop_range):\n",
    "        if key_list[i] == 'BETX':\n",
    "            ylab.append(r'$\\beta_x$ [m]')\n",
    "            ls = '-'\n",
    "            lw.append(1.5)\n",
    "    \n",
    "        elif key_list[i] == 'BETY':\n",
    "            ylab.append(r'$\\beta_y$ [m]')\n",
    "            ls = '-'\n",
    "            lw.append(1.5)     \n",
    "        \n",
    "        elif key_list[i] == 'ALFX':\n",
    "            ylab.append(r'$\\alpha_x$ [-]')\n",
    "            ls = '-'\n",
    "            lw.append(1.0)\n",
    "    \n",
    "        elif key_list[i] == 'ALFY':\n",
    "            ylab.append(r'$\\alpha_y$ [-]')\n",
    "            ls = '-'\n",
    "            lw.append(1.0)\n",
    "    \n",
    "        elif key_list[i] == 'MUX':\n",
    "            ylab.append(r'$\\mu_x$ [-]')\n",
    "            ls = '-'\n",
    "            lw.append(1.0)\n",
    "    \n",
    "        elif key_list[i] == 'MUY':\n",
    "            ylab.append(r'$\\mu_y$ [-]')\n",
    "            ls = '-'\n",
    "            lw.append(1.0)        \n",
    "    \n",
    "        elif key_list[i] == 'DX':\n",
    "            ylab.append(r'$D_x$ [m]')\n",
    "            ls = '-'\n",
    "            lw.append(1.0)\n",
    "    \n",
    "        elif key_list[i] == 'DY':\n",
    "            ylab.append(r'$D_y$ [m]')\n",
    "            ls = '-'\n",
    "            lw.append(1.0)    \n",
    "        \n",
    "        else:\n",
    "            ylab.append(key_list[i])\n",
    "            ls = '-'\n",
    "            lw.append(1.0)    \n",
    "        \n",
    "\n",
    "    with plot_output:\n",
    "        \n",
    "        fig1 = plt.figure(facecolor='w', edgecolor='k', figsize=(8.,4.), tight_layout=True)\n",
    "        ax1 = fig1.add_subplot(111)\n",
    "        \n",
    "        def default_title():\n",
    "            global q1\n",
    "            global q2\n",
    "            q1 = \"{:.2f}\".format(df.headers['Q1'])\n",
    "            q2 = \"{:.2f}\".format(df.headers['Q2'])\n",
    "            \n",
    "        if custom_title == '':\n",
    "                if (second_plot == True) and (same_file == False):\n",
    "                    default_title()\n",
    "                    q12 = \"{:.2f}\".format(df2.headers['Q1'])\n",
    "                    q22 = \"{:.2f}\".format(df2.headers['Q2'])\n",
    "                    title = df.headers['SEQUENCE'] + ' Qx=' + str(q1) +  ' Qy=' + str(q2) +'|'+ df2.headers['SEQUENCE'] + ' Qx=' + str(q12) +  ' Qy=' + str(q22)\n",
    "                else:\n",
    "                    default_title()\n",
    "                    title = df.headers['SEQUENCE'] + ' Qx=' + str(q1) +  ' Qy=' + str(q2)\n",
    "        else:\n",
    "            title = str(custom_title)\n",
    "        \n",
    "        \n",
    "        \n",
    "        ax1.set_xlabel('S [m]')\n",
    "        ax1.set_ylabel(ylab[0], color='b')\n",
    "        \n",
    "        ax1.set_xlim(xlimits[0],xlimits[1])\n",
    "        ax1.set_ylim(ylimits[0],ylimits[1])\n",
    "        \n",
    "        ax1.grid(ls=':', lw=0.5, color='b')\n",
    "        \n",
    "        ax1.plot(df.S, df[key], ls=ls, lw=lw[0], color='b')\n",
    "        \n",
    "        if second_plot == True:\n",
    "            ax2 = ax1.twinx()\n",
    "            ax2.set_ylim(ylimits2[0],ylimits2[1])\n",
    "            ax2.grid(ls=':', lw=0.5, color='r')\n",
    "            ax2.plot(df2.S, df2[key_list[1]], ls=ls, lw=lw[1], color='r')\n",
    "            plt.ylabel(ylab[1], color='r')\n",
    "            if same_file == True:\n",
    "                fig1.legend(['Plot 1', 'Plot 2'], loc='upper right', bbox_to_anchor=(0.91, 0.91))\n",
    "            else:\n",
    "                fig1.legend(['File 1', 'File 2'], loc='upper right', bbox_to_anchor=(0.91, 0.91))\n",
    "            \n",
    "            \n",
    "        \n",
    "        \n",
    "        ax1.set_title(title)\n",
    "        plt.show()\n",
    "        \n",
    "        if custom_fname == '':\n",
    "            if save_fig:fig1.savefig(str(key)+'_limits_'+str(xlimits[0])+'_'+str(xlimits[1])+'.png', dpi=200)\n",
    "        else:\n",
    "            if save_fig:fig1.savefig(str(custom_fname)+'.png', dpi=200"
   ]
  },
  {
   "cell_type": "markdown",
   "metadata": {},
   "source": [
    "#### Widget event handlers"
   ]
  },
  {
   "cell_type": "code",
   "execution_count": null,
   "metadata": {},
   "outputs": [],
   "source": [
    "def dropdown_key_eventhandler(change):\n",
    "    madx_tfs_plot_widget(change.new, tfs_s_slider.value, tfs_y_slider.value, input_tfs)"
   ]
  },
  {
   "cell_type": "code",
   "execution_count": null,
   "metadata": {},
   "outputs": [],
   "source": [
    "def s_slider_eventhandler(change):\n",
    "    madx_tfs_plot_widget(dd_column.value, change.new, tfs_y_slider.value, input_tfs)"
   ]
  },
  {
   "cell_type": "code",
   "execution_count": null,
   "metadata": {},
   "outputs": [],
   "source": [
    "def y_slider_eventhandler(change):\n",
    "    madx_tfs_plot_widget(dd_column.value, tfs_s_slider.value, change.new, input_tfs)"
   ]
  },
  {
   "cell_type": "code",
   "execution_count": null,
   "metadata": {},
   "outputs": [],
   "source": [
    "def save_button_eventhandler(change):\n",
    "    madx_tfs_plot_widget(dd_column.value, tfs_s_slider.value, tfs_y_slider.value, input_tfs, True)"
   ]
  },
  {
   "cell_type": "code",
   "execution_count": null,
   "metadata": {},
   "outputs": [],
   "source": [
    "dd_column.observe(dropdown_key_eventhandler, names='value')"
   ]
  },
  {
   "cell_type": "code",
   "execution_count": null,
   "metadata": {},
   "outputs": [],
   "source": [
    "tfs_s_slider.observe(s_slider_eventhandler, names='value')"
   ]
  },
  {
   "cell_type": "code",
   "execution_count": null,
   "metadata": {},
   "outputs": [],
   "source": [
    "tfs_y_slider.observe(y_slider_eventhandler, names='value')"
   ]
  },
  {
   "cell_type": "code",
   "execution_count": null,
   "metadata": {},
   "outputs": [],
   "source": [
    "save_button.on_click(save_button_eventhandler)"
   ]
  },
  {
   "cell_type": "markdown",
   "metadata": {},
   "source": [
    "#### GUI setup"
   ]
  },
  {
   "cell_type": "code",
   "execution_count": null,
   "metadata": {},
   "outputs": [],
   "source": [
    "item_layout = widgets.Layout(margin='0 0 50px 0')"
   ]
  },
  {
   "cell_type": "code",
   "execution_count": null,
   "metadata": {},
   "outputs": [],
   "source": [
    "input_widgets = widgets.HBox(\n",
    "[dd_column, tfs_s_slider, tfs_y_slider, save_button],\n",
    "layout=item_layout)\n",
    "tab = widgets.Tab([output, plot_output],\n",
    "layout=item_layout)"
   ]
  },
  {
   "cell_type": "code",
   "execution_count": null,
   "metadata": {},
   "outputs": [],
   "source": [
    "dashboard = widgets.VBox([input_widgets])\n",
    "display(dashboard)"
   ]
  },
  {
   "cell_type": "code",
   "execution_count": null,
   "metadata": {},
   "outputs": [],
   "source": [
    "display(plot_output)"
   ]
  },
  {
   "cell_type": "markdown",
   "metadata": {},
   "source": [
    "---\n",
    "# Your turn\n",
    "\n",
    "Can you try to create an iPython widget that does the following?\n",
    "\n",
    "## Functionality Required (try adding one thing at a time)\n",
    "\n",
    "- [ ] Load a cPyMAD TFS table file\n",
    "- [ ] Select which parameter to plot\n",
    "- [ ] Select axes limits\n",
    "- [ ] Add axes labels\n",
    "- [ ] Add plot title\n",
    "- [ ] Add plot legend and grid\n",
    "- [ ] Save plot to file (user specificies filename)\n",
    "\n",
    "### Bonus Tasks\n",
    "- [ ] Subplots: plot multiple parameters in the same figure using subplots/gridspec\n",
    "- [ ] Multiple data sets: read 2 TFS files and plot comparisons"
   ]
  },
  {
   "cell_type": "code",
   "execution_count": 9,
   "metadata": {},
   "outputs": [
    {
     "data": {
      "application/vnd.jupyter.widget-view+json": {
       "model_id": "2297219b94b6415e83950ce4e8a595fa",
       "version_major": 2,
       "version_minor": 0
      },
      "text/plain": [
       "Text(value='', description='Enter File Name')"
      ]
     },
     "metadata": {},
     "output_type": "display_data"
    },
    {
     "data": {
      "application/vnd.jupyter.widget-view+json": {
       "model_id": "8759730cff3240c3bf7906bb58cd3113",
       "version_major": 2,
       "version_minor": 0
      },
      "text/plain": [
       "Button(description='Enter', style=ButtonStyle())"
      ]
     },
     "metadata": {},
     "output_type": "display_data"
    },
    {
     "data": {
      "application/vnd.jupyter.widget-view+json": {
       "model_id": "8594d35c2e1749b4a32d5cd30c9fed3d",
       "version_major": 2,
       "version_minor": 0
      },
      "text/plain": [
       "Dropdown(options=('KEYWORD', 'NAME', 'S', 'L', 'BETX', 'ALFX', 'MUX', 'BETY', 'ALFY', 'MUY', 'X', 'PX', 'Y', '…"
      ]
     },
     "metadata": {},
     "output_type": "display_data"
    },
    {
     "data": {
      "application/vnd.jupyter.widget-view+json": {
       "model_id": "b87f01e8ada4466e83a51650a62e4a7b",
       "version_major": 2,
       "version_minor": 0
      },
      "text/plain": [
       "Button(description='Enter', style=ButtonStyle())"
      ]
     },
     "metadata": {},
     "output_type": "display_data"
    },
    {
     "data": {
      "application/vnd.jupyter.widget-view+json": {
       "model_id": "ab7be7d27fa94184ae79a0b425160343",
       "version_major": 2,
       "version_minor": 0
      },
      "text/plain": [
       "IntRangeSlider(value=(0, 50), continuous_update=False, description='Y Range:', min=-100, orientation='vertical…"
      ]
     },
     "metadata": {},
     "output_type": "display_data"
    },
    {
     "data": {
      "application/vnd.jupyter.widget-view+json": {
       "model_id": "54d8644527bf443b9cc821eaa9127f81",
       "version_major": 2,
       "version_minor": 0
      },
      "text/plain": [
       "Button(description='Enter', style=ButtonStyle())"
      ]
     },
     "metadata": {},
     "output_type": "display_data"
    },
    {
     "data": {
      "application/vnd.jupyter.widget-view+json": {
       "model_id": "7a1baa2b8f9a4022a4b489b62a919903",
       "version_major": 2,
       "version_minor": 0
      },
      "text/plain": [
       "IntRangeSlider(value=(0, 16), continuous_update=False, description='S Range:', max=173, step=5)"
      ]
     },
     "metadata": {},
     "output_type": "display_data"
    },
    {
     "data": {
      "application/vnd.jupyter.widget-view+json": {
       "model_id": "2abb2cfcc23f4d06817a5ebfa17c2887",
       "version_major": 2,
       "version_minor": 0
      },
      "text/plain": [
       "Button(description='Enter', style=ButtonStyle())"
      ]
     },
     "metadata": {},
     "output_type": "display_data"
    },
    {
     "data": {
      "application/vnd.jupyter.widget-view+json": {
       "model_id": "8b46899c72ef4845838338b993f5c830",
       "version_major": 2,
       "version_minor": 0
      },
      "text/plain": [
       "Button(description='Savefig', style=ButtonStyle())"
      ]
     },
     "metadata": {},
     "output_type": "display_data"
    }
   ],
   "source": [
    "#import necessary widgets\n",
    "import ipywidgets as widgets\n",
    "from IPython.display import display\n",
    "import pandas as pd\n",
    "import numpy as np\n",
    "import matplotlib.pyplot as plt\n",
    "import tfs\n",
    "\n",
    "def save_button_eventhandler(change):\n",
    "    madx_tfs_plot_widget(keyword, s_value, y_value, input_tfs, True)\n",
    "    \n",
    "def generate_tfs_s_slider(df):\n",
    "    tfs_s_slider = widgets.IntRangeSlider(\n",
    "    value=[0, 16],\n",
    "    min=np.min(df.S),\n",
    "    max=np.max(df.S+10),\n",
    "    step=5,\n",
    "    description='S Range:',\n",
    "    disabled=False,\n",
    "    continuous_update=False,\n",
    "    orientation='horizontal',\n",
    "    readout=True,\n",
    "    readout_format='d',\n",
    "    )\n",
    "    return tfs_s_slider\n",
    "\n",
    "def generate_tfs_y_slider(df):\n",
    "    tfs_y_slider = widgets.IntRangeSlider(\n",
    "    value=[0, 50],\n",
    "    min=-100,\n",
    "    max=100,\n",
    "    step=10,\n",
    "    description='Y Range:',\n",
    "    disabled=False,\n",
    "    continuous_update=False,\n",
    "    orientation='vertical',\n",
    "    readout=True,\n",
    "    readout_format='d',\n",
    "    )\n",
    "    return tfs_y_slider\n",
    "\n",
    "def madx_tfs_plot_widget(key, xlimits, ylimits, df, save_fig=False):\n",
    "    output.clear_output()\n",
    "    plot_output.clear_output()\n",
    "    \n",
    "    if key == 'BETX':\n",
    "        ylab = r'$\\beta_x$ [m]'\n",
    "        col = 'b'\n",
    "        ls = '-'\n",
    "        lw = 1.5\n",
    "    \n",
    "    elif key == 'BETY':\n",
    "        ylab = r'$\\beta_y$ [m]'\n",
    "        col = 'r'\n",
    "        ls = '-'\n",
    "        lw = 1.5     \n",
    "        \n",
    "    elif key == 'ALFX':\n",
    "        ylab = r'$\\alpha_x$ [-]'\n",
    "        col = 'b'\n",
    "        ls = '-'\n",
    "        lw = 1.0\n",
    "    \n",
    "    elif key == 'ALFY':\n",
    "        ylab = r'$\\alpha_y$ [-]'\n",
    "        col = 'r'\n",
    "        ls = '-'\n",
    "        lw = 1.0\n",
    "    \n",
    "    elif key == 'MUX':\n",
    "        ylab = r'$\\mu_x$ [-]'\n",
    "        col = 'b'\n",
    "        ls = '-'\n",
    "        lw = 1.0\n",
    "    \n",
    "    elif key == 'MUY':\n",
    "        ylab = r'$\\mu_y$ [-]'\n",
    "        col = 'r'\n",
    "        ls = '-'\n",
    "        lw = 1.0        \n",
    "    \n",
    "    elif key == 'DX':\n",
    "        ylab = r'$D_x$ [m]'\n",
    "        col = 'b'\n",
    "        ls = '-'\n",
    "        lw = 1.0\n",
    "    \n",
    "    elif key == 'DY':\n",
    "        ylab = r'$D_y$ [m]'\n",
    "        col = 'r'\n",
    "        ls = '-'\n",
    "        lw = 1.0    \n",
    "        \n",
    "    else:\n",
    "        ylab = key\n",
    "        col = 'k'\n",
    "        ls = '-'\n",
    "        lw = 1.0         \n",
    "    \n",
    "    with plot_output:\n",
    "        \n",
    "        fig1 = plt.figure(facecolor='w', edgecolor='k', figsize=(8.,4.), tight_layout=True)\n",
    "        ax1 = fig1.add_subplot(111)        \n",
    "        \n",
    "        q1 = \"{:.2f}\".format(df.headers['Q1'])\n",
    "        q2 = \"{:.2f}\".format(df.headers['Q2'])\n",
    "        title = df.headers['SEQUENCE'] + ' Qx=' + str(q1) +  ' Qy=' + str(q2)\n",
    "        ax1.set_title(title)\n",
    "        \n",
    "        ax1.set_xlabel('S [m]')\n",
    "        ax1.set_ylabel(ylab)\n",
    "        \n",
    "        ax1.set_xlim(xlimits[0],xlimits[1])\n",
    "        ax1.set_ylim(ylimits[0],ylimits[1])\n",
    "        \n",
    "        ax1.grid(ls=':', lw=0.5, color='grey')\n",
    "        \n",
    "        ax1.plot(df.S, df[key], ls=ls, lw=lw, color=col)\n",
    "        plt.show()\n",
    "        \n",
    "        if save_fig:fig1.savefig(str(key)+'_limits_'+str(xlimits[0])+'_'+str(xlimits[1])+'.png', dpi=200)\n",
    "\n",
    "def On_Enter_Keyword_Clicked(b):\n",
    "    global keyword\n",
    "    global tfs_y_slider\n",
    "    keyword = dd_column.value\n",
    "    #read y value\n",
    "    tfs_y_slider = generate_tfs_y_slider(input_tfs)\n",
    "    display(tfs_y_slider)\n",
    "    enterY = widgets.Button(\n",
    "        description = 'Enter')\n",
    "    display(enterY)\n",
    "    enterY.on_click(On_Enter_Y_Clicked)\n",
    "\n",
    "def On_Enter_Y_Clicked(b):\n",
    "    global y_value\n",
    "    global tfs_s_slider\n",
    "    y_value = tfs_y_slider.value\n",
    "    #read s value\n",
    "    tfs_s_slider = generate_tfs_s_slider(input_tfs)\n",
    "    display(tfs_s_slider)\n",
    "    enterS = widgets.Button(\n",
    "        description = 'Enter')\n",
    "    display(enterS)\n",
    "    enterS.on_click(On_Enter_S_Clicked)\n",
    "\n",
    "def On_Enter_S_Clicked(b):\n",
    "    global s_value\n",
    "    global output\n",
    "    global plot_output\n",
    "    s_value = tfs_s_slider.value \n",
    "    save_button = widgets.Button(description=\"Savefig\")\n",
    "    display(save_button)\n",
    "    save_button.on_click(save_button_eventhandler)\n",
    "    output = widgets.Output()\n",
    "    plot_output = widgets.Output()\n",
    "    \n",
    "def On_Enter_File_Clicked(b):\n",
    "    global dd_column\n",
    "    global input_tfs\n",
    "    input_filename = fileName.value\n",
    "    input_tfs = tfs.reader.read_tfs(input_filename)\n",
    "    #read keyword\n",
    "    dd_column = widgets.Dropdown(options = input_tfs.keys())\n",
    "    display(dd_column)\n",
    "    enterKeyword = widgets.Button(\n",
    "        description = 'Enter')\n",
    "    display(enterKeyword)\n",
    "    enterKeyword.on_click(On_Enter_Keyword_Clicked)\n",
    "\n",
    "def generate_widget():\n",
    "    global fileName\n",
    "    fileName = widgets.Text(\n",
    "        description = \"Enter File Name\")\n",
    "    EnterBox = widgets.Button(\n",
    "        description = 'Enter')\n",
    "    display(fileName)\n",
    "    display(EnterBox)\n",
    "    EnterBox.on_click(On_Enter_File_Clicked)\n",
    "    #Inputs/injection_bump_on.tfs\n",
    "\n",
    "generate_widget()\n",
    "    "
   ]
  },
  {
   "cell_type": "code",
   "execution_count": null,
   "metadata": {},
   "outputs": [],
   "source": []
  },
  {
   "cell_type": "code",
   "execution_count": null,
   "metadata": {},
   "outputs": [],
   "source": []
  }
 ],
 "metadata": {
  "kernelspec": {
   "display_name": "Python 3 (ipykernel)",
   "language": "python",
   "name": "python3"
  },
  "language_info": {
   "codemirror_mode": {
    "name": "ipython",
    "version": 3
   },
   "file_extension": ".py",
   "mimetype": "text/x-python",
   "name": "python",
   "nbconvert_exporter": "python",
   "pygments_lexer": "ipython3",
   "version": "3.9.12"
  }
 },
 "nbformat": 4,
 "nbformat_minor": 4
}
