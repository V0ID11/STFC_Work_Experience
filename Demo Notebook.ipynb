{
 "cells": [
  {
   "cell_type": "markdown",
   "id": "69ec032a",
   "metadata": {},
   "source": [
    "### Welcome to our Demonstration!"
   ]
  },
  {
   "cell_type": "markdown",
   "id": "5257fe3c",
   "metadata": {},
   "source": [
    "## Project 00\n",
    "Generating a file to represent a bunch of particles"
   ]
  },
  {
   "cell_type": "code",
   "execution_count": 5,
   "id": "e9330dbd",
   "metadata": {},
   "outputs": [
    {
     "data": {
      "application/vnd.jupyter.widget-view+json": {
       "model_id": "7f93d0a4e2e64c7b93968d74b6063d19",
       "version_major": 2,
       "version_minor": 0
      },
      "text/plain": [
       "RadioButtons(description='Bunch type:', options=('Uniform', 'Gaussian', 'Waterbag', 'KV', 'Poincare'), value='…"
      ]
     },
     "metadata": {},
     "output_type": "display_data"
    },
    {
     "data": {
      "application/vnd.jupyter.widget-view+json": {
       "model_id": "608f7a9b350341fdae29de72fedb8a5c",
       "version_major": 2,
       "version_minor": 0
      },
      "text/plain": [
       "RadioButtons(description='Matched?', options=('Unmatched', 'Matched'), value='Unmatched')"
      ]
     },
     "metadata": {},
     "output_type": "display_data"
    },
    {
     "data": {
      "application/vnd.jupyter.widget-view+json": {
       "model_id": "d2eb8a82ed2b49749e89724e9254904e",
       "version_major": 2,
       "version_minor": 0
      },
      "text/plain": [
       "RadioButtons(description='File type:', options=('MADX', 'PTC', 'Data file'), value='MADX')"
      ]
     },
     "metadata": {},
     "output_type": "display_data"
    },
    {
     "data": {
      "application/vnd.jupyter.widget-view+json": {
       "model_id": "b5760e04188643daac05ab5a95c6381a",
       "version_major": 2,
       "version_minor": 0
      },
      "text/plain": [
       "BoundedIntText(value=1, description='Dimensions:', max=4, min=1)"
      ]
     },
     "metadata": {},
     "output_type": "display_data"
    },
    {
     "data": {
      "application/vnd.jupyter.widget-view+json": {
       "model_id": "3f6d3eae72e541589aa14303643aba40",
       "version_major": 2,
       "version_minor": 0
      },
      "text/plain": [
       "BoundedIntText(value=10000, description='Particles:', max=1000000, min=1, step=1000)"
      ]
     },
     "metadata": {},
     "output_type": "display_data"
    },
    {
     "data": {
      "application/vnd.jupyter.widget-view+json": {
       "model_id": "b753de74e13a4686a580357e1f5851ff",
       "version_major": 2,
       "version_minor": 0
      },
      "text/plain": [
       "Text(value='', description='File Name:')"
      ]
     },
     "metadata": {},
     "output_type": "display_data"
    },
    {
     "name": "stdout",
     "output_type": "stream",
     "text": [
      "If you use the name of a pre-existing file, it will be overwritten.\n",
      "An automatic file name will be assigned based on the bunch type and parameters if the name is left empty.\n"
     ]
    },
    {
     "data": {
      "application/vnd.jupyter.widget-view+json": {
       "model_id": "6b6d3777262340e5b91eceb997e6565a",
       "version_major": 2,
       "version_minor": 0
      },
      "text/plain": [
       "Button(description='start', style=ButtonStyle())"
      ]
     },
     "metadata": {},
     "output_type": "display_data"
    },
    {
     "data": {
      "application/vnd.jupyter.widget-view+json": {
       "model_id": "870d8bbf62a542d48e06375111816f81",
       "version_major": 2,
       "version_minor": 0
      },
      "text/plain": [
       "FloatText(value=0.0, description='Standard deviation:')"
      ]
     },
     "metadata": {},
     "output_type": "display_data"
    },
    {
     "data": {
      "application/vnd.jupyter.widget-view+json": {
       "model_id": "366cb8afd5ca4c879c8fa70c0cfae500",
       "version_major": 2,
       "version_minor": 0
      },
      "text/plain": [
       "FloatText(value=0.0, description='Mean:')"
      ]
     },
     "metadata": {},
     "output_type": "display_data"
    },
    {
     "data": {
      "application/vnd.jupyter.widget-view+json": {
       "model_id": "d8fbedfffe8b4eb8b86e18d7a7054ffb",
       "version_major": 2,
       "version_minor": 0
      },
      "text/plain": [
       "FloatText(value=0.0, description='Coordinate:')"
      ]
     },
     "metadata": {},
     "output_type": "display_data"
    },
    {
     "data": {
      "application/vnd.jupyter.widget-view+json": {
       "model_id": "2e34631d276243768dca628ddb6f0122",
       "version_major": 2,
       "version_minor": 0
      },
      "text/plain": [
       "Button(description='continue', style=ButtonStyle())"
      ]
     },
     "metadata": {},
     "output_type": "display_data"
    },
    {
     "name": "stdout",
     "output_type": "stream",
     "text": [
      "Saved\n"
     ]
    }
   ],
   "source": [
    "#import the necessary modules\n",
    "import ipywidgets as widgets\n",
    "from IPython.display import display\n",
    "from PyParticleBunch import *\n",
    "\n",
    "def generate_bunch():\n",
    "    #Create the input fields to set the specifications of the particle bunch\n",
    "    global BunchType\n",
    "    BunchType = widgets.RadioButtons(\n",
    "        options=['Uniform','Gaussian', 'Waterbag', 'KV', 'Poincare'],\n",
    "        description='Bunch type:',\n",
    "        disabled=False\n",
    "    )\n",
    "    display(BunchType)\n",
    "    global Matched\n",
    "    Matched = widgets.RadioButtons(\n",
    "        options = [\"Unmatched\", \"Matched\"],\n",
    "        description = \"Matched?\"\n",
    "    )\n",
    "    display(Matched)\n",
    "    global TypeFileSave\n",
    "    TypeFileSave = widgets.RadioButtons(\n",
    "        options=['MADX','PTC', \"Data file\"],\n",
    "        description='File type:',\n",
    "        disabled=False\n",
    "    )\n",
    "    display(TypeFileSave)\n",
    "    global DimensionsInput\n",
    "    DimensionsInput = widgets.BoundedIntText(\n",
    "        min=1,\n",
    "        max=4,\n",
    "        description='Dimensions:'\n",
    "    )\n",
    "    display(DimensionsInput)\n",
    "    global NumOfParticles\n",
    "    NumOfParticles = widgets.BoundedIntText(\n",
    "        min=1,\n",
    "        max=1000000,\n",
    "        step = 1000,\n",
    "        description='Particles:',\n",
    "        value = 10000\n",
    "    )\n",
    "    display(NumOfParticles)\n",
    "    global FileName\n",
    "    FileName = widgets.Text(\n",
    "        description='File Name:'\n",
    "    )\n",
    "    display(FileName)\n",
    "    print(\"If you use the name of a pre-existing file, it will be overwritten.\")\n",
    "    print(\"An automatic file name will be assigned based on the bunch type and parameters if the name is left empty.\")\n",
    "    StartGen = widgets.Button(\n",
    "    description = \"start\"\n",
    "    )\n",
    "    StartGen.on_click(on_button_clicked)\n",
    "    display(StartGen)\n",
    "\n",
    "def on_button_clicked(b):\n",
    "    def onContinueButtonClicked(b):\n",
    "        def BeginGen(BunchType, dimensions, matched, numParticles):\n",
    "            #The generation functions for each type of particle bunch\n",
    "            def generateUniform(dimensions, matched, numParticles):\n",
    "                if dimensions == 1 and matched == \"Unmatched\":\n",
    "                    particleBunch = ParticleBunch.Uniform_1D(numParticles, MinLim.value, MaxLim.value, Horizontal.value)\n",
    "                elif dimensions == 2 and matched == \"Unmatched\":\n",
    "                    particleBunch = ParticleBunch.Uniform_2D(numParticles, MinX.value, MaxX.value, MinY.value, MaxY.value)\n",
    "                else:\n",
    "                    print(\"Error - not viable option\")\n",
    "                    particleBunch = None\n",
    "                return particleBunch\n",
    "            def generateGaussian(dimensions, matched, numParticles):\n",
    "                if dimensions == 4 and matched == \"Matched\":\n",
    "                    particleBunch = ParticleBunch.MatchedGaussian_4D(numParticles, EmittanceX.value, EmittanceY.value, AlphaX.value, BetaX.value, AlphaY.value, BetaY.value, XLim.value, YLim.value)\n",
    "                elif dimensions == 1 and matched == \"Unmatched\":\n",
    "                    particleBunch = ParticleBunch.Gaussian_1D(numParticles, stdDev.value, Mean.value, Coordinate.value)\n",
    "                elif dimensions == 2 and matched == \"Unmatched\":\n",
    "                    particleBunch = ParticleBunch.Gaussian_2D(numParticles, Mean1.value, stdDev1.value, Mean2.value, stdDev2.value, Coordinate1.value, Coordinate2.value)\n",
    "                elif dimensions == 4 and matched == \"Unmatched\":\n",
    "                    particleBunch = ParticleBunch.Gaussian_4D(numParticles, MeanX.value, stdDevX.value, MeanXp.value, stdDevXp.value, MeanY.value, stdDevY.value, MeanYp.value, stdDevYp.value)\n",
    "                else:\n",
    "                    print(\"Error - not viable option\")\n",
    "                    particleBunch = None\n",
    "                return particleBunch\n",
    "\n",
    "            def generateWaterbag(dimensions, matched, numParticles):\n",
    "                if dimensions == 4 and matched == \"Matched\":\n",
    "                    particleBunch = ParticleBunch.MatchedWaterbag_4D(numParticles, EmittanceX.value, EmittanceY.value, AlphaX.value, BetaX.value, AlphaY.value, BetaY.value)\n",
    "                else:\n",
    "                    print(\"Error - not viable option\")\n",
    "                    particleBunch = None\n",
    "                return particleBunch\n",
    "                    \n",
    "            def generateKV(dimensions, matched, numParticles):\n",
    "                if dimensions == 4 and matched == \"Matched\":\n",
    "                    particleBunch = ParticleBunch.MatchedKV_4D(numParticles, EmittanceX.value, EmittanceY.value, AlphaX.value, BetaX.value, AlphaY.value, BetaY.value)\n",
    "                else:\n",
    "                    print(\"Error - not viable option\")\n",
    "                    particleBunch = None\n",
    "                return particleBunch\n",
    "                    \n",
    "            def generatePoincare(dimensions, matched, numParticles):\n",
    "                if dimensions == 1 and matched == \"Unmatched\":\n",
    "                    particleBunch = ParticleBunch.Poincare_1D(numParticles.value, Coordinate.value, Emittance.value, Alpha.value, Beta.value, MinSig.value, MaxSig.value, ClosedOrbit.value, Deltap.value, Dispersion.value)\n",
    "                elif dimensions == 2 and matched == \"Unmatched\":\n",
    "                    particleBunch = ParticleBunch.Poincare_2D(numParticles.value, EmittanceX.value, emittanceY.value, alphaX.value, betaX.value, alphaY.value, betaY.value, MinSig.value, MaxSig.value, ClosedOrbitX.value, ClosedOrbitY.value, Deltap.value, d_X.value, d_Y.value)\n",
    "                else:\n",
    "                    print(\"Error - not viable option\")\n",
    "                    particleBunch = None\n",
    "                return particleBunch\n",
    "            #decide which generation function to call, based on the type of bunch requested\n",
    "            if BunchType == \"Uniform\":\n",
    "                particleBunch = generateUniform(dimensions, matched, numParticles)\n",
    "            elif BunchType == \"Gaussian\":\n",
    "                particleBunch = generateGaussian(dimensions, matched, numParticles)\n",
    "            elif BunchType == \"Waterbag\":\n",
    "                particleBunch = generateWaterbag(dimensions, matched, numParticles)\n",
    "            elif BunchType == \"KV\":\n",
    "                particleBunch = generateKV(dimensions, matched, numParticles)\n",
    "            elif BunchType == \"Poincare\":\n",
    "                particleBunch = generatePoincare(dimensions, matched, numParticles)\n",
    "            else:\n",
    "                print(\"Error\")\n",
    "                particleBunch = None\n",
    "            return particleBunch\n",
    "        particleBunch = BeginGen(ValBunchType, ValDimensions, ValMatched, ValNumParticles)\n",
    "        if particleBunch != None:\n",
    "            SaveBunchToFile(ValFileSave, ValFileName, particleBunch)\n",
    "        else:\n",
    "            print(\"Error - Unable to save\")\n",
    "        \n",
    "    #Once the start button is clicked, get the values from the input fields \n",
    "    ValDimensions = DimensionsInput.value\n",
    "    ValMatched = Matched.value\n",
    "    ValBunchType = BunchType.value\n",
    "    #Display inputs specific to the parameters previously selected\n",
    "    if ValBunchType == \"Uniform\"and ValDimensions == 1:\n",
    "        MinLim = widgets.FloatText(\n",
    "            width='auto',\n",
    "            description='Minimum limit:'\n",
    "        )\n",
    "        display(MinLim)\n",
    "\n",
    "        MaxLim = widgets.FloatText(\n",
    "            description='Maximum limit:'\n",
    "        )\n",
    "        display(MaxLim)\n",
    "        Horizontal = widgets.Checkbox(\n",
    "            description = \"Horizontal\",\n",
    "            value = True\n",
    "        )\n",
    "        display(Horizontal)\n",
    "    elif ValBunchType == \"Uniform\" and ValDimensions == 2:\n",
    "        MinXinput = widgets.FloatText(\n",
    "            description='Minimum X:'\n",
    "        )\n",
    "        display(MinXinput)\n",
    "\n",
    "        MaxXinput = widgets.FloatText(\n",
    "            description='Maximum X:'\n",
    "        )\n",
    "        display(MaxXinput)\n",
    "\n",
    "        MinYinput = widgets.FloatText(\n",
    "            description='Minimum Y:'\n",
    "        )\n",
    "        display(MinYinput)\n",
    "\n",
    "        MaxYinput = widgets.FloatText(\n",
    "            description='Maximum Y:'\n",
    "        )\n",
    "        display(MaxYinput)\n",
    "        \n",
    "    elif ValBunchType ==\"Gaussian\"and ValDimensions == 1:\n",
    "        stdDev = widgets.FloatText(\n",
    "            description='Standard deviation:'\n",
    "        )\n",
    "        display(stdDev)\n",
    "\n",
    "        Mean = widgets.FloatText(\n",
    "            description='Mean:'\n",
    "        )\n",
    "        display(Mean)\n",
    "        Coordinate = widgets.FloatText(\n",
    "            description='Coordinate:'\n",
    "        )\n",
    "        display(Coordinate)\n",
    "    elif ValBunchType ==\"Gaussian\"and ValDimensions == 2:\n",
    "        stdDev1 = widgets.FloatText(\n",
    "            description='Standard deviation 1:'\n",
    "        )\n",
    "        display(stdDev1)\n",
    "\n",
    "        Mean1 = widgets.FloatText(\n",
    "            description='Mean 1:'\n",
    "        )\n",
    "        display(Mean1)\n",
    "        Coordinate1 = widgets.FloatText(\n",
    "            description='Coordinate 1:'\n",
    "        )\n",
    "        display(Coordinate1)\n",
    "        stdDev2 = widgets.FloatText(\n",
    "            description='Standard deviation 2:'\n",
    "        )\n",
    "        display(stdDev2)\n",
    "\n",
    "        Mean2 = widgets.FloatText(\n",
    "            description='Mean 2:'\n",
    "        )\n",
    "        display(Mean2)\n",
    "        Coordinate2 = widgets.FloatText(\n",
    "            description='Coordinate 2:'\n",
    "        )\n",
    "        display(Coordinate2)\n",
    "    elif ValBunchType ==\"Gaussian\"and ValDimensions == 4 and ValMatched == \"Unmatched\":\n",
    "        MeanX = widgets.FloatText(\n",
    "            description='Mean x:'\n",
    "        )\n",
    "        display(MeanX)\n",
    "        MeanY = widgets.FloatText(\n",
    "            description='Mean y:'\n",
    "        )\n",
    "        display(MeanY)\n",
    "        stdDevX = widgets.FloatText(\n",
    "            description='Standard deviation x:'\n",
    "        )\n",
    "        display(stdDevX)\n",
    "        stdDevY = widgets.FloatText(\n",
    "            description='Standard deviation Y:'\n",
    "        )\n",
    "        display(stdDevY)\n",
    "        MeanXp = widgets.FloatText(\n",
    "            description='Mean xp:'\n",
    "        )\n",
    "        display(MeanXp)\n",
    "        MeanYp = widgets.FloatText(\n",
    "            description='Mean yp:'\n",
    "        )\n",
    "        display(MeanYp)\n",
    "        stdDevXp = widgets.FloatText(\n",
    "            description='Standard deviation xp:'\n",
    "        )\n",
    "        display(stdDevXp)\n",
    "        stdDevYp = widgets.FloatText(\n",
    "            description='Standard deviation Yp:'\n",
    "        )\n",
    "        display(stdDevYp)\n",
    "    elif ValBunchType ==\"Gaussian\"and ValDimensions == 4 and ValMatched == \"Matched\":\n",
    "        EmittanceX = widgets.FloatText(\n",
    "            description='Emittance x:'\n",
    "        )\n",
    "        display(EmittanceX)\n",
    "        EmittanceY = widgets.FloatText(\n",
    "            description='Emittance y:'\n",
    "        )\n",
    "        display(EmittanceY)\n",
    "        AlphaX = widgets.FloatText(\n",
    "            description='Alpha x:'\n",
    "        )\n",
    "        display(AlphaX)\n",
    "        AlphaY = widgets.FloatText(\n",
    "            description='Alpha y:'\n",
    "        )\n",
    "        display(AlphaY)\n",
    "\n",
    "        BetaX = widgets.FloatText(\n",
    "            description='Beta x:'\n",
    "        )\n",
    "        display(BetaX)\n",
    "        BetaY = widgets.FloatText(\n",
    "            description='Beta y:'\n",
    "        )\n",
    "        display(BetaY)\n",
    "        XLim = widgets.BoundedFloatText(\n",
    "            description='X limit:',\n",
    "            min=0,\n",
    "            max=5,\n",
    "            value = 5\n",
    "        )\n",
    "        display(XLim)\n",
    "\n",
    "        YLim = widgets.BoundedFloatText(\n",
    "            description='Y limit:',\n",
    "            min=0,\n",
    "            max=5,\n",
    "            value = 5\n",
    "        )\n",
    "        display(YLim)\n",
    "    elif ValBunchType ==\"Poincare\"and ValDimensions == 1:\n",
    "        Coordinate = widgets.FloatText(\n",
    "            description='Coordinate:'\n",
    "        )\n",
    "        display(Coordinate)\n",
    "\n",
    "        Emittance = widgets.FloatText(\n",
    "            description='Emittance:'\n",
    "        )\n",
    "        display(Emittance)\n",
    "        Alpha = widgets.FloatText(\n",
    "            description='Alpha:'\n",
    "        )\n",
    "        display(Alpha)\n",
    "\n",
    "        Beta = widgets.FloatText(\n",
    "            description='Beta:'\n",
    "        )\n",
    "        display(Beta)\n",
    "        MinSig = widgets.FloatText(\n",
    "            description='Minimum sig:'\n",
    "        )\n",
    "        display(MinSig)\n",
    "\n",
    "        MaxSig = widgets.FloatText(\n",
    "            description='Maximum sig:'\n",
    "        )\n",
    "        display(MaxSig)\n",
    "        ClosedOrbit = widgets.FloatText(\n",
    "            description='Closed orbit:'\n",
    "        )\n",
    "        display(ClosedOrbit)\n",
    "\n",
    "        deltap = widgets.FloatText(\n",
    "            description='Deltap:'\n",
    "        )\n",
    "        display(deltap)\n",
    "        dispersion = widgets.FloatText(\n",
    "            description='Dispersion:'\n",
    "        )\n",
    "        display(dispersion)\n",
    "    elif ValBunchType ==\"Poincare\"and ValDimensions == 2:\n",
    "        EmittanceX = widgets.FloatText(\n",
    "            description='Emittance x:'\n",
    "        )\n",
    "        display(EmittanceX)\n",
    "        EmittanceY = widgets.FloatText(\n",
    "            description='Emittance y:'\n",
    "        )\n",
    "        display(EmittanceY)\n",
    "        AlphaX = widgets.FloatText(\n",
    "            description='Alpha x:'\n",
    "        )\n",
    "        display(AlphaX)\n",
    "        AlphaY = widgets.FloatText(\n",
    "            description='Alpha y:'\n",
    "        )\n",
    "        display(AlphaY)\n",
    "\n",
    "        BetaX = widgets.FloatText(\n",
    "            description='Beta x:'\n",
    "        )\n",
    "        display(BetaX)\n",
    "        BetaY = widgets.FloatText(\n",
    "            description='Beta y:'\n",
    "        )\n",
    "        display(BetaY)\n",
    "        MinSig = widgets.FloatText(\n",
    "            description='Minimum sig:'\n",
    "        )\n",
    "        display(MinSig)\n",
    "\n",
    "        MaxSig = widgets.FloatText(\n",
    "            description='Maximum sig:'\n",
    "        )\n",
    "        display(MaxSig)\n",
    "        ClosedOrbitX = widgets.FloatText(\n",
    "            description='Closed orbit x:'\n",
    "        )\n",
    "        display(ClosedOrbitX)\n",
    "        ClosedOrbitY = widgets.FloatText(\n",
    "            description='Closed orbit y:'\n",
    "        )\n",
    "        display(ClosedOrbitY)\n",
    "        deltap = widgets.FloatText(\n",
    "            description='Deltap:'\n",
    "        )\n",
    "        display(deltap)\n",
    "        d_X = widgets.FloatText(\n",
    "            description='Dispersion x:',\n",
    "            value = 0.0\n",
    "        )\n",
    "        display(d_X)\n",
    "        d_Y = widgets.FloatText(\n",
    "            description='Dispersion y:',\n",
    "            value = 0.0\n",
    "        )\n",
    "        display(d_Y)\n",
    "\n",
    "    elif ValBunchType == \"Waterbag\" or ValBunchType == \"KV\":\n",
    "        EmittanceX = widgets.FloatText(\n",
    "            description='Emittance x:'\n",
    "        )\n",
    "        display(EmittanceX)\n",
    "        EmittanceY = widgets.FloatText(\n",
    "            description='Emittance y:'\n",
    "        )\n",
    "        display(EmittanceY)\n",
    "        AlphaX = widgets.FloatText(\n",
    "            description='Alpha x:'\n",
    "        )\n",
    "        display(AlphaX)\n",
    "        AlphaY = widgets.FloatText(\n",
    "            description='Alpha y:'\n",
    "        )\n",
    "        display(AlphaY)\n",
    "\n",
    "        BetaX = widgets.FloatText(\n",
    "            description='Beta x:'\n",
    "        )\n",
    "        display(BetaX)\n",
    "        BetaY = widgets.FloatText(\n",
    "            description='Beta y:'\n",
    "        )\n",
    "        display(BetaY)\n",
    "    \n",
    "    StartGenSpecific = widgets.Button(\n",
    "        description = \"continue\"\n",
    "    )\n",
    "    #Create a button to continue and generate the particle bunch now that the bunch-specific parameters have been input\n",
    "    StartGenSpecific.on_click(onContinueButtonClicked)\n",
    "    display(StartGenSpecific)\n",
    "    \n",
    "    ValNumParticles = NumOfParticles.value\n",
    "    ValFileSave = TypeFileSave.value\n",
    "    ValFileName = FileName.value\n",
    "    #Generate a general filename if the box is left empty\n",
    "    if ValFileName == \"\":\n",
    "        ValFileName = ValMatched+\"_\"+ValBunchType+\"_\"+str(ValDimensions)+\"D\"\n",
    "\n",
    "def SaveBunchToFile(fileType, fileName, bunch):\n",
    "    #Create a directory Output_Files if one doe not exist\n",
    "    #Save the file based on what file type you wanted\n",
    "    if fileType == \"MADX\":\n",
    "        bunch.print_MADX_file(fileName+\".madx\")\n",
    "        print(\"Saved\")\n",
    "    elif fileType == \"PTC\":\n",
    "        bunch.print_PTC_file(fileName+\".ptc\")\n",
    "        print(\"Saved\")\n",
    "    elif fileType == \"Data file\":\n",
    "        bunch.print_file(fileName+\".dat\")\n",
    "        print(\"Saved\")\n",
    "\n",
    "generate_bunch()"
   ]
  },
  {
   "cell_type": "markdown",
   "id": "51104e47",
   "metadata": {},
   "source": [
    "## Project 01: Bunch Plotter"
   ]
  },
  {
   "cell_type": "code",
   "execution_count": 6,
   "id": "b49063f8",
   "metadata": {},
   "outputs": [
    {
     "data": {
      "application/vnd.jupyter.widget-view+json": {
       "model_id": "47da83ea563e40c2ab369be3efe093a7",
       "version_major": 2,
       "version_minor": 0
      },
      "text/plain": [
       "BoundedIntText(value=1, description='Number of Files', max=10, min=1)"
      ]
     },
     "metadata": {},
     "output_type": "display_data"
    },
    {
     "data": {
      "application/vnd.jupyter.widget-view+json": {
       "model_id": "53dfb161e663487ca7c9f5f989b329f8",
       "version_major": 2,
       "version_minor": 0
      },
      "text/plain": [
       "Button(description='Enter Number', style=ButtonStyle())"
      ]
     },
     "metadata": {},
     "output_type": "display_data"
    },
    {
     "data": {
      "application/vnd.jupyter.widget-view+json": {
       "model_id": "4f30c4a687854adf85172c0b5a7b628c",
       "version_major": 2,
       "version_minor": 0
      },
      "text/plain": [
       "Text(value='', description='Enter File Name')"
      ]
     },
     "metadata": {},
     "output_type": "display_data"
    },
    {
     "data": {
      "application/vnd.jupyter.widget-view+json": {
       "model_id": "5ade4c758e024183a662f9f0ed681548",
       "version_major": 2,
       "version_minor": 0
      },
      "text/plain": [
       "Button(description='Enter', style=ButtonStyle())"
      ]
     },
     "metadata": {},
     "output_type": "display_data"
    },
    {
     "name": "stdout",
     "output_type": "stream",
     "text": [
      "Loaded 0 particles\n",
      "Loaded 10000 particles\n",
      "Loaded 20000 particles\n",
      "Loaded 30000 particles\n",
      "Loaded 40000 particles\n",
      "Loaded 50000 particles\n",
      "Loaded 60000 particles\n",
      "Loaded 70000 particles\n",
      "Loaded 80000 particles\n",
      "Loaded 90000 particles\n"
     ]
    },
    {
     "data": {
      "application/vnd.jupyter.widget-view+json": {
       "model_id": "68c16e232e6643aca25e0c5cf11bad2e",
       "version_major": 2,
       "version_minor": 0
      },
      "text/plain": [
       "Dropdown(description='Graph_Type', options=('Default', 'Histogram', 'Scatter graph', 'Heatmap'), value='Defaul…"
      ]
     },
     "metadata": {},
     "output_type": "display_data"
    },
    {
     "data": {
      "application/vnd.jupyter.widget-view+json": {
       "model_id": "d86db59f02f9426881c437eb0f8ff4a4",
       "version_major": 2,
       "version_minor": 0
      },
      "text/plain": [
       "Dropdown(description='x_axis', options=('Default / ignore for histogram', 'x', 'y', 'xp', 'yp', 't', 'pt'), va…"
      ]
     },
     "metadata": {},
     "output_type": "display_data"
    },
    {
     "data": {
      "application/vnd.jupyter.widget-view+json": {
       "model_id": "8f9a3027dd1a4dedaf0bc1344eddd074",
       "version_major": 2,
       "version_minor": 0
      },
      "text/plain": [
       "Dropdown(description='y_axis', options=('Default', 'x', 'y', 'xp', 'yp', 't', 'pt'), value='Default')"
      ]
     },
     "metadata": {},
     "output_type": "display_data"
    },
    {
     "name": "stdout",
     "output_type": "stream",
     "text": [
      "Error message: To make a histogram you will need to change the y_axis coordinates.\n",
      "To save your plot to file, please enter a name for the file: \n"
     ]
    },
    {
     "data": {
      "application/vnd.jupyter.widget-view+json": {
       "model_id": "325f1a9ab126487490d9ef674fa94ba9",
       "version_major": 2,
       "version_minor": 0
      },
      "text/plain": [
       "HBox(children=(Button(description='Save', style=ButtonStyle()), Text(value='', description='File name:')))"
      ]
     },
     "metadata": {},
     "output_type": "display_data"
    },
    {
     "name": "stdout",
     "output_type": "stream",
     "text": [
      "Text(value='', description='File name:')\n",
      "Thank you, .png will be the name of your file.\n",
      "\n"
     ]
    },
    {
     "data": {
      "image/png": "[encoded data removed]",
      "text/plain": [
       "<Figure size 1440x864 with 1 Axes>"
      ]
     },
     "metadata": {
      "needs_background": "light"
     },
     "output_type": "display_data"
    }
   ],
   "source": [
    "from ipywidgets import interact, interactive, fixed, interact_manual\n",
    "import ipywidgets as widgets\n",
    "from IPython.display import display\n",
    "from PyParticleBunch import *\n",
    "import matplotlib.pyplot as plt\n",
    "import numpy as np\n",
    "\n",
    "def enterFile(b, fileNum=0):\n",
    "    NumFiles = Files.value\n",
    "    if fileNum >= NumFiles:\n",
    "        return\n",
    "\n",
    "    beta_x = 3.215250830692\n",
    "    beta_y = 18.598794417925\n",
    "    alpha_x =  -0.547366008626\n",
    "    alpha_y =  2.750780302852\n",
    "    D_x =  -0.000103040524\n",
    "    D_xp = 0.001254020379\n",
    "    D_y = 0.\n",
    "    D_yp = 0.\n",
    "    emittance_x = emittance_y = 400 * 1E-6\n",
    "    x_limit = 5\n",
    "    y_limit = 5\n",
    "    n = 1E5\n",
    "\n",
    "    Matched_Gaussian_4D_bunch = ParticleBunch.MatchedGaussian_4D(n, emittance_x, emittance_y, alpha_x, beta_x, alpha_y, beta_y, x_limit = 5, y_limit = 5)\n",
    "\n",
    "    def OnFileEntered(b):\n",
    "        Button_Pressed = True\n",
    "        Matched_Gaussian_4D_bunch.print_file(fileName.value)\n",
    "        Bunch_In = ParticleBunch.from_file(fileName.value)\n",
    "        x_data = Bunch_In.get_coordinate_array('x')\n",
    "        y_data = Bunch_In.get_coordinate_array('y')\n",
    "        xp_data = Bunch_In.get_coordinate_array('xp')\n",
    "        yp_data = Bunch_In.get_coordinate_array('yp')\n",
    "        t_data = Bunch_In.get_coordinate_array('t')\n",
    "        pt_data = Bunch_In.get_coordinate_array('pt')\n",
    "\n",
    "        def dropdown_type_eventhandler(change):\n",
    "            common_filtering(change.new, dropdown_x_axis.value, dropdown_y_axis.value)\n",
    "        def dropdown_x_axis_eventhandler(change):\n",
    "            common_filtering(dropdown_type.value, change.new, dropdown_y_axis.value)\n",
    "        def dropdown_y_axis_eventhandler(change):\n",
    "            common_filtering(dropdown_type.value, dropdown_x_axis.value, change.new)\n",
    "\n",
    "        output = widgets.Output()\n",
    "        plot_output = widgets.Output()\n",
    "\n",
    "        dropdown_type = widgets.Dropdown(options =['Default', 'Histogram', 'Scatter graph', 'Heatmap'], description='Graph_Type')\n",
    "        dropdown_x_axis = widgets.Dropdown(options=['Default / ignore for histogram', 'x', 'y', 'xp', 'yp', 't', 'pt'], description='x_axis')\n",
    "        dropdown_y_axis = widgets.Dropdown(options=['Default', 'x', 'y', 'xp', 'yp', 't', 'pt'], description='y_axis')\n",
    "\n",
    "\n",
    "        def common_filtering(Graph_Type, x_axis, y_axis):\n",
    "            if x_axis == 'x':\n",
    "                x_axis_data = x_data\n",
    "            if x_axis == 'xp':\n",
    "                x_axis_data = xp_data\n",
    "            if x_axis == 'y':\n",
    "                x_axis_data = y_data\n",
    "            if x_axis == 'yp':\n",
    "                x_axis_data = yp_data\n",
    "            if x_axis == 't':\n",
    "                x_axis_data = t_data\n",
    "            if x_axis == 'pt':\n",
    "                x_axis_data = pt_data\n",
    "            if y_axis == 'x':\n",
    "                y_axis_data = x_data\n",
    "            if y_axis == 'xp':\n",
    "                y_axis_data = xp_data\n",
    "            if y_axis == 'y':\n",
    "                y_axis_data = y_data\n",
    "            if y_axis == 'yp':\n",
    "                y_axis_data = yp_data\n",
    "            if y_axis == 't':\n",
    "                y_axis_data = t_data\n",
    "            if y_axis == 'pt':\n",
    "                y_axis_data = pt_data\n",
    "\n",
    "            if Graph_Type == 'Scatter graph':\n",
    "                if y_axis == 'Default' or x_axis == 'Default / ignore for histogram':\n",
    "                    print('Error message: You will need to select the coordinates type in order to plot this graph.')\n",
    "                else:\n",
    "                    print('To save your plot to file, please enter a name for the file: ')\n",
    "                    button = widgets.Button(description=\"Save\")\n",
    "                    inp = widgets.Text(description='File name:')\n",
    "                    Box = widgets.HBox([button,inp])\n",
    "\n",
    "                    def on_button_clicked(b):\n",
    "                        plot_file_name = inp.value\n",
    "                        print(inp)\n",
    "                        print('Thank you, ' + plot_file_name + '.png will be the name of your file.')\n",
    "\n",
    "                        if x_axis and y_axis:\n",
    "                            plt.rcParams[\"figure.figsize\"] = (20,12)\n",
    "                            plt.scatter(x_axis_data, y_axis_data);\n",
    "                            plt.grid(linestyle='-', linewidth='0.5', color='grey')\n",
    "                            plt.title('Scatter for ' + str(x_axis) + ' against ' + str(y_axis), fontsize=15)\n",
    "                            u_label = 'placeholder'\n",
    "                            v_label = 'placeholder'\n",
    "\n",
    "                            plt.xlabel(u_label, fontsize=15)\n",
    "                            plt.ylabel(v_label, fontsize=15)\n",
    "                            plt.savefig(plot_file_name + '.png')\n",
    "                            enterFile(b, fileNum + 1)\n",
    "                        return inp.value\n",
    "\n",
    "                    path = button.on_click(on_button_clicked)\n",
    "                    display(Box)\n",
    "\n",
    "            if Graph_Type == 'Histogram':\n",
    "                if y_axis == 'Default':\n",
    "                    print('Error message: To make a histogram you will need to change the y_axis coordinates.')\n",
    "                else:\n",
    "                    print('To save your plot to file, please enter a name for the file: ')\n",
    "                    button = widgets.Button(description=\"Save\")\n",
    "                    inp = widgets.Text(description='File name:')\n",
    "                    Box = widgets.HBox([button,inp])\n",
    "\n",
    "                    def on_button_clicked(b):\n",
    "                        plot_file_name = inp.value\n",
    "                        print(inp)\n",
    "                        print('Thank you, ' + plot_file_name + '.png will be the name of your file.')\n",
    "\n",
    "                        plt.rcParams[\"figure.figsize\"] = (20,12)\n",
    "                        plt.hist(y_axis_data, bins=128);\n",
    "                        plt.grid(linestyle='-', linewidth='0.5', color='grey')\n",
    "                        plt.title('Scatter for ' + y_axis, fontsize=15)\n",
    "                        if y_axis == 'x':\n",
    "                            u_label = 'x [m]'\n",
    "                        elif y_axis == 'xp':\n",
    "                            u_label = 'xp [-]'\n",
    "                        elif y_axis == 'y':\n",
    "                            u_label = 'y [m]'\n",
    "                        elif y_axis == 'yp':\n",
    "                            u_label = 'yp [-]'\n",
    "                        elif y_axis == 't':\n",
    "                            u_label = 't [m]'\n",
    "                        elif y_axis == 'pt':\n",
    "                            u_label = 'pt [-]'\n",
    "                        plt.ylabel(u_label, fontsize=15)\n",
    "                        print(plot_file_name)\n",
    "                        plt.savefig(plot_file_name + '.png')\n",
    "                        \n",
    "                        enterFile(b, fileNum + 1)\n",
    "                        return inp.value\n",
    "\n",
    "                    path = button.on_click(on_button_clicked)\n",
    "                    display(Box)\n",
    "                    \n",
    "            if Graph_Type == 'Heatmap':\n",
    "                if y_axis == 'Default' or x_axis == 'Default / ignore for histogram':\n",
    "                    print('Error message: To make a histogram you will need to change the y_axis coordinates.')\n",
    "                else:\n",
    "                    print('To save your plot to file, please enter a name for the file: ')\n",
    "                    button = widgets.Button(description=\"Save\")\n",
    "                    inp = widgets.Text(description='File name:')\n",
    "                    Box = widgets.HBox([button,inp])\n",
    "\n",
    "                    def on_button_clicked(b):\n",
    "                        plot_file_name = inp.value\n",
    "                        print(inp)\n",
    "                        print('Thank you, ' + plot_file_name + '.png will be the name of your file.')\n",
    "\n",
    "                        plt.rcParams[\"figure.figsize\"] = (20,12)\n",
    "                        plt.hist2d(x_axis_data, y_axis_data, bins=128);\n",
    "                        plt.grid(linestyle='-', linewidth='0.5', color='grey')\n",
    "                        plt.title('HeatMap for ' + y_axis, fontsize=15)\n",
    "                        if y_axis == 'x':\n",
    "                            u_label = 'x [m]'\n",
    "                        elif y_axis == 'xp':\n",
    "                            u_label = 'xp [-]'\n",
    "                        elif y_axis == 'y':\n",
    "                            u_label = 'y [m]'\n",
    "                        elif y_axis == 'yp':\n",
    "                            u_label = 'yp [-]'\n",
    "                        elif y_axis == 't':\n",
    "                            u_label = 't [m]'\n",
    "                        elif y_axis == 'pt':\n",
    "                            u_label = 'pt [-]'\n",
    "                        plt.ylabel(u_label, fontsize=15)\n",
    "                        print(plot_file_name)\n",
    "                        plt.savefig(plot_file_name + '.png')\n",
    "                        \n",
    "                        enterFile(b, fileNum + 1)\n",
    "                        return inp.value\n",
    "\n",
    "                    path = button.on_click(on_button_clicked)\n",
    "                    display(Box)\n",
    "\n",
    "        dropdown_type.observe(dropdown_type_eventhandler, names='value')\n",
    "        dropdown_x_axis.observe(dropdown_x_axis_eventhandler, names='value')\n",
    "        dropdown_y_axis.observe(dropdown_y_axis_eventhandler, names='value')\n",
    "        display(dropdown_type)\n",
    "        display(dropdown_x_axis)\n",
    "        display(dropdown_y_axis)\n",
    "\n",
    "    button_Pressed = False\n",
    "    fileName = widgets.Text(\n",
    "        description = \"Enter File Name\")\n",
    "    fileEnterBox = widgets.Button(\n",
    "        description = 'Enter')\n",
    "    display(fileName)\n",
    "    display(fileEnterBox)\n",
    "    fileEnterBox.on_click(OnFileEntered)\n",
    "\n",
    "\n",
    "\n",
    "def generate_widget():\n",
    "    global Files\n",
    "    Files = widgets.BoundedIntText(\n",
    "        min=1,\n",
    "        max=10,\n",
    "        description='Number of Files')\n",
    "\n",
    "    display(Files)\n",
    "\n",
    "    EnterBox = widgets.Button(\n",
    "        description = 'Enter Number')\n",
    "    display(EnterBox)\n",
    "    EnterBox.on_click(enterFile)\n",
    "\n",
    "generate_widget()\n",
    "  "
   ]
  },
  {
   "cell_type": "markdown",
   "id": "a90ede55",
   "metadata": {},
   "source": [
    "## Project 02: "
   ]
  },
  {
   "cell_type": "code",
   "execution_count": 7,
   "id": "aa6e5b0f",
   "metadata": {},
   "outputs": [
    {
     "data": {
      "application/vnd.jupyter.widget-view+json": {
       "model_id": "baf51728ab554d67b1f956619bb6979e",
       "version_major": 2,
       "version_minor": 0
      },
      "text/plain": [
       "Text(value='', description='Enter File Name')"
      ]
     },
     "metadata": {},
     "output_type": "display_data"
    },
    {
     "data": {
      "application/vnd.jupyter.widget-view+json": {
       "model_id": "1039456495da4d3fac94fb70f22785c2",
       "version_major": 2,
       "version_minor": 0
      },
      "text/plain": [
       "Button(description='Enter', style=ButtonStyle())"
      ]
     },
     "metadata": {},
     "output_type": "display_data"
    },
    {
     "data": {
      "application/vnd.jupyter.widget-view+json": {
       "model_id": "b334f47d932c458ab9ae445ce74ae987",
       "version_major": 2,
       "version_minor": 0
      },
      "text/plain": [
       "BoundedIntText(value=1, description='Number of parameters to plot', max=3, min=1)"
      ]
     },
     "metadata": {},
     "output_type": "display_data"
    },
    {
     "data": {
      "application/vnd.jupyter.widget-view+json": {
       "model_id": "42ab42b6020b4fa9841467de714a4ace",
       "version_major": 2,
       "version_minor": 0
      },
      "text/plain": [
       "Button(description='Enter', style=ButtonStyle())"
      ]
     },
     "metadata": {},
     "output_type": "display_data"
    },
    {
     "data": {
      "application/vnd.jupyter.widget-view+json": {
       "model_id": "23d4470e632544448a01ddbf083c9868",
       "version_major": 2,
       "version_minor": 0
      },
      "text/plain": [
       "Dropdown(options=('KEYWORD', 'NAME', 'S', 'L', 'BETX', 'ALFX', 'MUX', 'BETY', 'ALFY', 'MUY', 'X', 'PX', 'Y', '…"
      ]
     },
     "metadata": {},
     "output_type": "display_data"
    },
    {
     "data": {
      "application/vnd.jupyter.widget-view+json": {
       "model_id": "ba5baa8d195940b78cbb3ea6f81960f7",
       "version_major": 2,
       "version_minor": 0
      },
      "text/plain": [
       "Button(description='Enter', style=ButtonStyle())"
      ]
     },
     "metadata": {},
     "output_type": "display_data"
    },
    {
     "data": {
      "application/vnd.jupyter.widget-view+json": {
       "model_id": "af6ef3b648ed47e7aa14163d8df160b4",
       "version_major": 2,
       "version_minor": 0
      },
      "text/plain": [
       "IntRangeSlider(value=(0, 50), continuous_update=False, description='Y Range:', min=-100, step=10)"
      ]
     },
     "metadata": {},
     "output_type": "display_data"
    },
    {
     "data": {
      "application/vnd.jupyter.widget-view+json": {
       "model_id": "c98aebdd59a34f2abf66e79b4540c278",
       "version_major": 2,
       "version_minor": 0
      },
      "text/plain": [
       "Button(description='Enter', style=ButtonStyle())"
      ]
     },
     "metadata": {},
     "output_type": "display_data"
    },
    {
     "data": {
      "application/vnd.jupyter.widget-view+json": {
       "model_id": "66180e972bf8464c8a86c99f171f3d65",
       "version_major": 2,
       "version_minor": 0
      },
      "text/plain": [
       "IntRangeSlider(value=(0, 16), continuous_update=False, description='S Range:', max=173, step=5)"
      ]
     },
     "metadata": {},
     "output_type": "display_data"
    },
    {
     "data": {
      "application/vnd.jupyter.widget-view+json": {
       "model_id": "23383b887f804fda83dd3956df285e3d",
       "version_major": 2,
       "version_minor": 0
      },
      "text/plain": [
       "Button(description='Enter', style=ButtonStyle())"
      ]
     },
     "metadata": {},
     "output_type": "display_data"
    },
    {
     "data": {
      "application/vnd.jupyter.widget-view+json": {
       "model_id": "49ae859111de48b59b4928c8635d2c5d",
       "version_major": 2,
       "version_minor": 0
      },
      "text/plain": [
       "Button(description='Save!', style=ButtonStyle())"
      ]
     },
     "metadata": {},
     "output_type": "display_data"
    },
    {
     "data": {
      "application/vnd.jupyter.widget-view+json": {
       "model_id": "d1edd344f5434474a8c0b628c1fa71e9",
       "version_major": 2,
       "version_minor": 0
      },
      "text/plain": [
       "Text(value='', description='enter a name to save figure')"
      ]
     },
     "metadata": {},
     "output_type": "display_data"
    },
    {
     "data": {
      "application/vnd.jupyter.widget-view+json": {
       "model_id": "bbc2c4da374b4fb3b215ebc3d73dbfa8",
       "version_major": 2,
       "version_minor": 0
      },
      "text/plain": [
       "Button(description='enter', style=ButtonStyle())"
      ]
     },
     "metadata": {},
     "output_type": "display_data"
    },
    {
     "name": "stdout",
     "output_type": "stream",
     "text": [
      "saved\n"
     ]
    }
   ],
   "source": [
    "#import necessary widgets\n",
    "import ipywidgets as widgets\n",
    "from IPython.display import display\n",
    "import pandas as pd\n",
    "import numpy as np\n",
    "import matplotlib.pyplot as plt\n",
    "import tfs\n",
    "\n",
    "def save_button_eventhandler(change):\n",
    "    #gets desired file name from user\n",
    "    global FigName\n",
    "    FigName = widgets.Text(description='enter a name to save figure')\n",
    "    display(FigName)\n",
    "    enterFigName = widgets.Button(description='enter')\n",
    "    display(enterFigName)\n",
    "    enterFigName.on_click(saveFig)\n",
    "\n",
    "def saveFig(b):\n",
    "    #saves final fig\n",
    "    figName = FigName.value\n",
    "    madx_tfs_plot_widget(keyword, s_value, y_value, input_tfs, True, figName)\n",
    "    print('saved')\n",
    "    \n",
    "def add_to_plot():\n",
    "    #(supposedly) adds plot to figure, but right now they just override one another\n",
    "    global paramNum    \n",
    "    madx_tfs_plot_widget(keyword, s_value, y_value, input_tfs, False)\n",
    "    print('added to plot')\n",
    "    paramNum += 1\n",
    "    params_entered()\n",
    "    \n",
    "def generate_tfs_s_slider(df):\n",
    "    tfs_s_slider = widgets.IntRangeSlider(\n",
    "    value=[0, 16],\n",
    "    min=np.min(df.S),\n",
    "    max=np.max(df.S+10),\n",
    "    step=5,\n",
    "    description='S Range:',\n",
    "    disabled=False,\n",
    "    continuous_update=False,\n",
    "    orientation='horizontal',\n",
    "    readout=True,\n",
    "    readout_format='d',\n",
    "    )\n",
    "    return tfs_s_slider\n",
    "\n",
    "def generate_tfs_y_slider(df):\n",
    "    tfs_y_slider = widgets.IntRangeSlider(\n",
    "    value=[0, 50],\n",
    "    min=-100,\n",
    "    max=100,\n",
    "    step=10,\n",
    "    description='Y Range:',\n",
    "    disabled=False,\n",
    "    continuous_update=False,\n",
    "    orientation='horizontal',\n",
    "    readout=True,\n",
    "    readout_format='d',\n",
    "    )\n",
    "    return tfs_y_slider\n",
    "    \n",
    "def madx_tfs_plot_widget(key, xlimits, ylimits, df, save_fig=False, figName=''):\n",
    "    output = widgets.Output()\n",
    "    plot_output = widgets.Output()\n",
    "    output.clear_output()\n",
    "    plot_output.clear_output()\n",
    "    \n",
    "    if key == 'BETX':\n",
    "        ylab = r'$\\beta_x$ [m]'\n",
    "        col = 'b'\n",
    "        ls = '-'\n",
    "        lw = 1.5\n",
    "    \n",
    "    elif key == 'BETY':\n",
    "        ylab = r'$\\beta_y$ [m]'\n",
    "        col = 'r'\n",
    "        ls = '-'\n",
    "        lw = 1.5     \n",
    "        \n",
    "    elif key == 'ALFX':\n",
    "        ylab = r'$\\alpha_x$ [-]'\n",
    "        col = 'b'\n",
    "        ls = '-'\n",
    "        lw = 1.0\n",
    "    \n",
    "    elif key == 'ALFY':\n",
    "        ylab = r'$\\alpha_y$ [-]'\n",
    "        col = 'r'\n",
    "        ls = '-'\n",
    "        lw = 1.0\n",
    "    \n",
    "    elif key == 'MUX':\n",
    "        ylab = r'$\\mu_x$ [-]'\n",
    "        col = 'b'\n",
    "        ls = '-'\n",
    "        lw = 1.0\n",
    "    \n",
    "    elif key == 'MUY':\n",
    "        ylab = r'$\\mu_y$ [-]'\n",
    "        col = 'r'\n",
    "        ls = '-'\n",
    "        lw = 1.0        \n",
    "    \n",
    "    elif key == 'DX':\n",
    "        ylab = r'$D_x$ [m]'\n",
    "        col = 'b'\n",
    "        ls = '-'\n",
    "        lw = 1.0\n",
    "    \n",
    "    elif key == 'DY':\n",
    "        ylab = r'$D_y$ [m]'\n",
    "        col = 'r'\n",
    "        ls = '-'\n",
    "        lw = 1.0    \n",
    "        \n",
    "    else:\n",
    "        ylab = key\n",
    "        col = 'k'\n",
    "        ls = '-'\n",
    "        lw = 1.0         \n",
    "    \n",
    "    with plot_output:\n",
    "        \n",
    "        fig1 = plt.figure(facecolor='w', edgecolor='k', figsize=(8.,4.), tight_layout=True)\n",
    "        ax1 = fig1.add_subplot(111)        \n",
    "        \n",
    "        q1 = \"{:.2f}\".format(df.headers['Q1'])\n",
    "        q2 = \"{:.2f}\".format(df.headers['Q2'])\n",
    "        title = df.headers['SEQUENCE'] + ' Qx=' + str(q1) +  ' Qy=' + str(q2)\n",
    "        ax1.set_title(title)\n",
    "        \n",
    "        ax1.set_xlabel('S [m]')\n",
    "        ax1.set_ylabel(ylab)\n",
    "        \n",
    "        ax1.set_xlim(xlimits[0],xlimits[1])\n",
    "        ax1.set_ylim(ylimits[0],ylimits[1])\n",
    "        \n",
    "        ax1.grid(ls=':', lw=0.5, color='grey')\n",
    "        \n",
    "        ax1.plot(df.S, df[key], ls=ls, lw=lw, color=col)\n",
    "        plt.legend()\n",
    "        plt.show()\n",
    "        \n",
    "        if save_fig:\n",
    "            #fig1.savefig(str(key)+'_limits_'+str(xlimits[0])+'_'+str(xlimits[1])+'.png', dpi=200)\n",
    "            fig1.savefig(figName+'.png', dpi=200)\n",
    "    \n",
    "def On_Enter_Keyword_Clicked(b):\n",
    "    global keyword\n",
    "    global tfs_y_slider\n",
    "    keyword = dd_column.value\n",
    "    if (paramNum == numParams) and (paramNum != 1): #checks if final fig should be generated\n",
    "        save_button = widgets.Button(description=\"Save!\")\n",
    "        display(save_button)\n",
    "        save_button.on_click(save_button_eventhandler)\n",
    "    if paramNum > 1: #checks if tfs_s and tfs_y sliders need generating again\n",
    "        add_to_plot()\n",
    "        return\n",
    "    #generates tfs_y slider (for first iteration)\n",
    "    tfs_y_slider = generate_tfs_y_slider(input_tfs)\n",
    "    display(tfs_y_slider)\n",
    "    enterY = widgets.Button(\n",
    "        description = 'Enter')\n",
    "    display(enterY)\n",
    "    enterY.on_click(On_Enter_Y_Clicked)\n",
    "\n",
    "def On_Enter_Y_Clicked(b):\n",
    "    global y_value\n",
    "    global tfs_s_slider\n",
    "    y_value = tfs_y_slider.value\n",
    "    #read s value\n",
    "    tfs_s_slider = generate_tfs_s_slider(input_tfs)\n",
    "    display(tfs_s_slider)\n",
    "    enterS = widgets.Button(\n",
    "        description = 'Enter')\n",
    "    display(enterS)\n",
    "    enterS.on_click(On_Enter_S_Clicked)\n",
    "\n",
    "def add_to_plot_handler(b): #add to plot button handler \n",
    "    add_to_plot()\n",
    "\n",
    "def On_Enter_S_Clicked(b):\n",
    "    global s_value\n",
    "    global output\n",
    "    global plot_output\n",
    "    s_value = tfs_s_slider.value\n",
    "    if paramNum == 1:\n",
    "        save_button = widgets.Button(description=\"Save!\")\n",
    "        display(save_button)\n",
    "        save_button.on_click(save_button_eventhandler)\n",
    "    else:\n",
    "        add_button = widgets.Button(description='add to plot')\n",
    "        display(add_button)\n",
    "        add_button.on_click(add_to_plot_handler)\n",
    "\n",
    "def to_params(b): #handler function for entering parameters button\n",
    "    params_entered()\n",
    "    \n",
    "def params_entered():\n",
    "    global dd_column\n",
    "    global input_tfs\n",
    "    global numParams\n",
    "    numParams = params.value\n",
    "    if paramNum > numParams: #quit program once correct number of keywords generated\n",
    "        return\n",
    "    \n",
    "    input_filename = fileName.value\n",
    "    input_tfs = tfs.reader.read_tfs(input_filename)\n",
    "    #read keyword\n",
    "    dd_column = widgets.Dropdown(options = input_tfs.keys())\n",
    "    display(dd_column)\n",
    "    enterKeyword = widgets.Button(\n",
    "        description = 'Enter')\n",
    "    display(enterKeyword)\n",
    "    enterKeyword.on_click(On_Enter_Keyword_Clicked)  \n",
    "    \n",
    "def On_Enter_File_Clicked(b):\n",
    "    global params\n",
    "    global paramNum\n",
    "    paramNum = 1\n",
    "    params = widgets.BoundedIntText(\n",
    "        min=1,\n",
    "        max=3,\n",
    "        description='Number of parameters to plot')\n",
    "    display(params)\n",
    "    enterParams = widgets.Button(\n",
    "        description = 'Enter')\n",
    "    display(enterParams)\n",
    "    enterParams.on_click(to_params)\n",
    "    \n",
    "def get_file():\n",
    "    global fileName\n",
    "    fileName = widgets.Text(\n",
    "        description = \"Enter File Name\")\n",
    "    EnterBox = widgets.Button(\n",
    "        description = 'Enter')\n",
    "    display(fileName)\n",
    "    display(EnterBox)\n",
    "    EnterBox.on_click(On_Enter_File_Clicked)\n",
    "    #injection_bump_on.tfs\n",
    "\n",
    "get_file()"
   ]
  },
  {
   "cell_type": "code",
   "execution_count": null,
   "id": "98a3628b",
   "metadata": {},
   "outputs": [],
   "source": []
  }
 ],
 "metadata": {
  "kernelspec": {
   "display_name": "Python 3",
   "language": "python",
   "name": "python3"
  },
  "language_info": {
   "codemirror_mode": {
    "name": "ipython",
    "version": 3
   },
   "file_extension": ".py",
   "mimetype": "text/x-python",
   "name": "python",
   "nbconvert_exporter": "python",
   "pygments_lexer": "ipython3",
   "version": "3.8.8"
  }
 },
 "nbformat": 4,
 "nbformat_minor": 5
}
