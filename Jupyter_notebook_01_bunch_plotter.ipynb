{
 "cells": [
  {
   "cell_type": "markdown",
   "metadata": {},
   "source": [
    "# Project 01: PyParticleBunch: Bunch Plotting Widget\n",
    "---"
   ]
  },
  {
   "cell_type": "markdown",
   "metadata": {},
   "source": [
    "## Prerequisites\n",
    "Please complete the courses in ../00_Teaching_Material before attempting this project\n",
    "\n",
    "- [ ] Introduction to Jupyter Notebooks\n",
    "- [ ] Introduction to PyParticleBunch\n",
    "- [ ] Introduction to Plotting with MatPlotLib\n",
    "\n",
    "### Optional\n",
    "- [ ] Introduction to iPython widgets"
   ]
  },
  {
   "cell_type": "markdown",
   "metadata": {},
   "source": [
    "---\n",
    "# Suggested Approach to Projects:"
   ]
  },
  {
   "cell_type": "markdown",
   "metadata": {},
   "source": [
    "<div class=\"alert alert-block alert-success\">\n",
    "<b>Step 1 (Easy)</b> Prototype your code: play with python until it does what you want it to do!\n",
    "</div>"
   ]
  },
  {
   "cell_type": "markdown",
   "metadata": {},
   "source": [
    "<div class=\"alert alert-block alert-warning\">\n",
    "<b>Step 2 (Moderate):</b> Functions: convert your working messy code into nice clean functions, remember to think carefully about function and variable names, inputs to the function (arguments), and what it outputs.\n",
    "</div>"
   ]
  },
  {
   "cell_type": "markdown",
   "metadata": {},
   "source": [
    "<div class=\"alert alert-block alert-danger\">\n",
    "<b>Step 3 (Advanced) </b> Widget: try to use iPython widgets to turn your functions into a GUI (graphical user interface)\n",
    "</div>"
   ]
  },
  {
   "cell_type": "markdown",
   "metadata": {},
   "source": [
    "# Project Goal:\n",
    "\n",
    "To produce a widget that reads a PyParticleBunch file, plot the bunch in a desired way, and save the plot to file.\n",
    "\n",
    "Things to consider:\n",
    "- What kind of plot is useful? 1D Histogram, 2D Scatter, 2D Heatmap, more...?\n",
    "- Which co-ordinates are we plotting?\n",
    "- What are the corresponding axis labels, title, axis limits?\n",
    "- Do we want to add a grid or legend to the plot?\n",
    "- What is the saved plot filename?"
   ]
  },
  {
   "cell_type": "markdown",
   "metadata": {},
   "source": [
    "---\n",
    "# Example Code"
   ]
  },
  {
   "cell_type": "code",
   "execution_count": 1,
   "metadata": {},
   "outputs": [],
   "source": [
    "from PyParticleBunch import *\n",
    "import ipywidgets as widgets\n",
    "from IPython.display import display"
   ]
  },
  {
   "cell_type": "code",
   "execution_count": 2,
   "metadata": {},
   "outputs": [],
   "source": [
    "beta_x = 3.215250830692\n",
    "beta_y = 18.598794417925\n",
    "alpha_x =  -0.547366008626\n",
    "alpha_y =  2.750780302852\n",
    "D_x =  -0.000103040524\n",
    "D_xp = 0.001254020379\n",
    "D_y = 0.\n",
    "D_yp = 0.\n",
    "emittance_x = emittance_y = 400 * 1E-6\n",
    "x_limit = 5\n",
    "y_limit = 5\n",
    "n = 1E5"
   ]
  },
  {
   "cell_type": "code",
   "execution_count": 3,
   "metadata": {},
   "outputs": [],
   "source": [
    "Matched_Gaussian_4D_bunch = ParticleBunch.MatchedGaussian_4D(n, emittance_x, emittance_y, alpha_x, beta_x, alpha_y, beta_y, x_limit = 5, y_limit = 5)"
   ]
  },
  {
   "cell_type": "code",
   "execution_count": 4,
   "metadata": {},
   "outputs": [],
   "source": [
    "Matched_Gaussian_4D_bunch.print_file('Gaussian_Bunch.dat')"
   ]
  },
  {
   "cell_type": "code",
   "execution_count": 5,
   "metadata": {},
   "outputs": [
    {
     "name": "stdout",
     "output_type": "stream",
     "text": [
      "Loaded 0 particles\n",
      "Loaded 10000 particles\n",
      "Loaded 20000 particles\n",
      "Loaded 30000 particles\n",
      "Loaded 40000 particles\n",
      "Loaded 50000 particles\n",
      "Loaded 60000 particles\n",
      "Loaded 70000 particles\n",
      "Loaded 80000 particles\n",
      "Loaded 90000 particles\n"
     ]
    }
   ],
   "source": [
    "Bunch_In = ParticleBunch.from_file('Gaussian_Bunch.dat')"
   ]
  },
  {
   "cell_type": "code",
   "execution_count": 6,
   "metadata": {},
   "outputs": [],
   "source": [
    "x_data = Bunch_In.get_coordinate_array('x')\n",
    "y_data = Bunch_In.get_coordinate_array('y')\n",
    "xp_data = Bunch_In.get_coordinate_array('xp')\n",
    "yp_data = Bunch_In.get_coordinate_array('yp')\n",
    "t_data = Bunch_In.get_coordinate_array('t')\n",
    "pt_data = Bunch_In.get_coordinate_array('pt')"
   ]
  },
  {
   "cell_type": "code",
   "execution_count": 7,
   "metadata": {},
   "outputs": [
    {
     "data": {
      "image/png": "[encoded data removed]",
      "text/plain": [
       "<Figure size 432x288 with 1 Axes>"
      ]
     },
     "metadata": {
      "needs_background": "light"
     },
     "output_type": "display_data"
    }
   ],
   "source": [
    "plt.scatter(x_data, y_data);"
   ]
  },
  {
   "cell_type": "code",
   "execution_count": 8,
   "metadata": {},
   "outputs": [
    {
     "data": {
      "image/png": "[encoded data removed]",
      "text/plain": [
       "<Figure size 432x288 with 1 Axes>"
      ]
     },
     "metadata": {
      "needs_background": "light"
     },
     "output_type": "display_data"
    }
   ],
   "source": [
    "plt.hist(x_data, bins=128);"
   ]
  },
  {
   "cell_type": "markdown",
   "metadata": {},
   "source": [
    "---\n",
    "# Your turn\n",
    "\n",
    "Can you try to create an iPython widget that does the following?\n",
    "\n",
    "## Functionality Required (try adding one thing at a time)\n",
    "\n",
    "- [ ] Read bunch from data file and generate PyParticleBunch\n",
    "- [ ] Select which type of plot (histogram / scatter / heatmap etc)\n",
    "- [ ] Select which co-ordinate(s) to plot\n",
    "- [ ] Add axes labels, limits\n",
    "- [ ] Add plot title\n",
    "- [ ] Add plot legend and grid\n",
    "- [ ] Save plot to file (user specificies filename)\n",
    "\n",
    "### Bonus Tasks\n",
    "- [ ] Read multiple bunch data files to produce similar plots for each\n",
    "- [ ] Combine multiple generated bunch plots to create a GIF using imageio"
   ]
  },
  {
   "cell_type": "code",
   "execution_count": null,
   "metadata": {},
   "outputs": [],
   "source": []
  }
 ],
 "metadata": {
  "kernelspec": {
   "display_name": "Python 3 (ipykernel)",
   "language": "python",
   "name": "python3"
  },
  "language_info": {
   "codemirror_mode": {
    "name": "ipython",
    "version": 3
   },
   "file_extension": ".py",
   "mimetype": "text/x-python",
   "name": "python",
   "nbconvert_exporter": "python",
   "pygments_lexer": "ipython3",
   "version": "3.9.12"
  }
 },
 "nbformat": 4,
 "nbformat_minor": 4
}
