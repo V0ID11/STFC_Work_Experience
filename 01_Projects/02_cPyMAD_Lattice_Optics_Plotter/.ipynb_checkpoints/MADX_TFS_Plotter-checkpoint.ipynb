{
 "cells": [
  {
   "cell_type": "markdown",
   "metadata": {},
   "source": [
    "# Plot MAD-X TFS Table\n",
    "- from file\n",
    "- using widgets"
   ]
  },
  {
   "cell_type": "markdown",
   "metadata": {},
   "source": [
    "#### Imports "
   ]
  },
  {
   "cell_type": "code",
   "execution_count": 1,
   "metadata": {},
   "outputs": [],
   "source": [
    "import ipywidgets as widgets\n",
    "\n",
    "# Needed to siplay the widget in our notebook\n",
    "from IPython.display import display\n",
    "\n",
    "import pandas as pd\n",
    "import numpy as np\n",
    "\n",
    "import matplotlib.pyplot as plt\n",
    "\n",
    "import tfs"
   ]
  },
  {
   "cell_type": "markdown",
   "metadata": {},
   "source": [
    "## Read TFS table"
   ]
  },
  {
   "cell_type": "code",
   "execution_count": 2,
   "metadata": {},
   "outputs": [],
   "source": [
    "input_filename = 'Inputs/injection_bump_on.tfs'"
   ]
  },
  {
   "cell_type": "code",
   "execution_count": 3,
   "metadata": {},
   "outputs": [],
   "source": [
    "input_tfs = tfs.reader.read_tfs(input_filename)"
   ]
  },
  {
   "cell_type": "code",
   "execution_count": 4,
   "metadata": {},
   "outputs": [
    {
     "data": {
      "text/html": [
       "<div>\n",
       "<style scoped>\n",
       "    .dataframe tbody tr th:only-of-type {\n",
       "        vertical-align: middle;\n",
       "    }\n",
       "\n",
       "    .dataframe tbody tr th {\n",
       "        vertical-align: top;\n",
       "    }\n",
       "\n",
       "    .dataframe thead th {\n",
       "        text-align: right;\n",
       "    }\n",
       "</style>\n",
       "<table border=\"1\" class=\"dataframe\">\n",
       "  <thead>\n",
       "    <tr style=\"text-align: right;\">\n",
       "      <th></th>\n",
       "      <th>KEYWORD</th>\n",
       "      <th>NAME</th>\n",
       "      <th>S</th>\n",
       "      <th>L</th>\n",
       "      <th>BETX</th>\n",
       "      <th>ALFX</th>\n",
       "      <th>MUX</th>\n",
       "      <th>BETY</th>\n",
       "      <th>ALFY</th>\n",
       "      <th>MUY</th>\n",
       "      <th>...</th>\n",
       "      <th>BETA33</th>\n",
       "      <th>ALFA11</th>\n",
       "      <th>ALFA12</th>\n",
       "      <th>ALFA13</th>\n",
       "      <th>ALFA21</th>\n",
       "      <th>ALFA22</th>\n",
       "      <th>DISP1</th>\n",
       "      <th>DISP2</th>\n",
       "      <th>DISP3</th>\n",
       "      <th>DISP4</th>\n",
       "    </tr>\n",
       "  </thead>\n",
       "  <tbody>\n",
       "    <tr>\n",
       "      <th>0</th>\n",
       "      <td>MARKER</td>\n",
       "      <td>SYNCHROTRON$START</td>\n",
       "      <td>0.00000</td>\n",
       "      <td>0.00</td>\n",
       "      <td>10.432928</td>\n",
       "      <td>0.743095</td>\n",
       "      <td>0.000000</td>\n",
       "      <td>5.928609</td>\n",
       "      <td>-1.113632</td>\n",
       "      <td>0.000000</td>\n",
       "      <td>...</td>\n",
       "      <td>0.0</td>\n",
       "      <td>0.0</td>\n",
       "      <td>0.0</td>\n",
       "      <td>0.0</td>\n",
       "      <td>0.0</td>\n",
       "      <td>0.0</td>\n",
       "      <td>0.0</td>\n",
       "      <td>0.0</td>\n",
       "      <td>0.0</td>\n",
       "      <td>0.0</td>\n",
       "    </tr>\n",
       "    <tr>\n",
       "      <th>1</th>\n",
       "      <td>MARKER</td>\n",
       "      <td>SP0_DATUM</td>\n",
       "      <td>0.00000</td>\n",
       "      <td>0.00</td>\n",
       "      <td>10.432928</td>\n",
       "      <td>0.743095</td>\n",
       "      <td>0.000000</td>\n",
       "      <td>5.928609</td>\n",
       "      <td>-1.113632</td>\n",
       "      <td>0.000000</td>\n",
       "      <td>...</td>\n",
       "      <td>0.0</td>\n",
       "      <td>0.0</td>\n",
       "      <td>0.0</td>\n",
       "      <td>0.0</td>\n",
       "      <td>0.0</td>\n",
       "      <td>0.0</td>\n",
       "      <td>0.0</td>\n",
       "      <td>0.0</td>\n",
       "      <td>0.0</td>\n",
       "      <td>0.0</td>\n",
       "    </tr>\n",
       "    <tr>\n",
       "      <th>2</th>\n",
       "      <td>SBEND</td>\n",
       "      <td>SP0_DIPFR8</td>\n",
       "      <td>0.16000</td>\n",
       "      <td>0.16</td>\n",
       "      <td>10.195541</td>\n",
       "      <td>0.740409</td>\n",
       "      <td>0.002469</td>\n",
       "      <td>6.296385</td>\n",
       "      <td>-1.185182</td>\n",
       "      <td>0.004169</td>\n",
       "      <td>...</td>\n",
       "      <td>0.0</td>\n",
       "      <td>0.0</td>\n",
       "      <td>0.0</td>\n",
       "      <td>0.0</td>\n",
       "      <td>0.0</td>\n",
       "      <td>0.0</td>\n",
       "      <td>0.0</td>\n",
       "      <td>0.0</td>\n",
       "      <td>0.0</td>\n",
       "      <td>0.0</td>\n",
       "    </tr>\n",
       "    <tr>\n",
       "      <th>3</th>\n",
       "      <td>SBEND</td>\n",
       "      <td>SP0_DIPFR9</td>\n",
       "      <td>0.36000</td>\n",
       "      <td>0.20</td>\n",
       "      <td>9.905764</td>\n",
       "      <td>0.708493</td>\n",
       "      <td>0.005637</td>\n",
       "      <td>6.785519</td>\n",
       "      <td>-1.260463</td>\n",
       "      <td>0.009039</td>\n",
       "      <td>...</td>\n",
       "      <td>0.0</td>\n",
       "      <td>0.0</td>\n",
       "      <td>0.0</td>\n",
       "      <td>0.0</td>\n",
       "      <td>0.0</td>\n",
       "      <td>0.0</td>\n",
       "      <td>0.0</td>\n",
       "      <td>0.0</td>\n",
       "      <td>0.0</td>\n",
       "      <td>0.0</td>\n",
       "    </tr>\n",
       "    <tr>\n",
       "      <th>4</th>\n",
       "      <td>SBEND</td>\n",
       "      <td>SP0_DIPFR10</td>\n",
       "      <td>0.39000</td>\n",
       "      <td>0.03</td>\n",
       "      <td>9.863400</td>\n",
       "      <td>0.703631</td>\n",
       "      <td>0.006120</td>\n",
       "      <td>6.861483</td>\n",
       "      <td>-1.271688</td>\n",
       "      <td>0.009739</td>\n",
       "      <td>...</td>\n",
       "      <td>0.0</td>\n",
       "      <td>0.0</td>\n",
       "      <td>0.0</td>\n",
       "      <td>0.0</td>\n",
       "      <td>0.0</td>\n",
       "      <td>0.0</td>\n",
       "      <td>0.0</td>\n",
       "      <td>0.0</td>\n",
       "      <td>0.0</td>\n",
       "      <td>0.0</td>\n",
       "    </tr>\n",
       "    <tr>\n",
       "      <th>...</th>\n",
       "      <td>...</td>\n",
       "      <td>...</td>\n",
       "      <td>...</td>\n",
       "      <td>...</td>\n",
       "      <td>...</td>\n",
       "      <td>...</td>\n",
       "      <td>...</td>\n",
       "      <td>...</td>\n",
       "      <td>...</td>\n",
       "      <td>...</td>\n",
       "      <td>...</td>\n",
       "      <td>...</td>\n",
       "      <td>...</td>\n",
       "      <td>...</td>\n",
       "      <td>...</td>\n",
       "      <td>...</td>\n",
       "      <td>...</td>\n",
       "      <td>...</td>\n",
       "      <td>...</td>\n",
       "      <td>...</td>\n",
       "      <td>...</td>\n",
       "    </tr>\n",
       "    <tr>\n",
       "      <th>675</th>\n",
       "      <td>SBEND</td>\n",
       "      <td>SP9_DIP6</td>\n",
       "      <td>163.12282</td>\n",
       "      <td>0.06</td>\n",
       "      <td>10.759111</td>\n",
       "      <td>0.588435</td>\n",
       "      <td>4.307433</td>\n",
       "      <td>5.432725</td>\n",
       "      <td>-0.943493</td>\n",
       "      <td>3.823261</td>\n",
       "      <td>...</td>\n",
       "      <td>0.0</td>\n",
       "      <td>0.0</td>\n",
       "      <td>0.0</td>\n",
       "      <td>0.0</td>\n",
       "      <td>0.0</td>\n",
       "      <td>0.0</td>\n",
       "      <td>0.0</td>\n",
       "      <td>0.0</td>\n",
       "      <td>0.0</td>\n",
       "      <td>0.0</td>\n",
       "    </tr>\n",
       "    <tr>\n",
       "      <th>676</th>\n",
       "      <td>SBEND</td>\n",
       "      <td>SP9_DIPFR6</td>\n",
       "      <td>163.32282</td>\n",
       "      <td>0.20</td>\n",
       "      <td>10.492396</td>\n",
       "      <td>0.743612</td>\n",
       "      <td>4.310428</td>\n",
       "      <td>5.840227</td>\n",
       "      <td>-1.095944</td>\n",
       "      <td>3.828916</td>\n",
       "      <td>...</td>\n",
       "      <td>0.0</td>\n",
       "      <td>0.0</td>\n",
       "      <td>0.0</td>\n",
       "      <td>0.0</td>\n",
       "      <td>0.0</td>\n",
       "      <td>0.0</td>\n",
       "      <td>0.0</td>\n",
       "      <td>0.0</td>\n",
       "      <td>0.0</td>\n",
       "      <td>0.0</td>\n",
       "    </tr>\n",
       "    <tr>\n",
       "      <th>677</th>\n",
       "      <td>SBEND</td>\n",
       "      <td>SP9_DIPFR7</td>\n",
       "      <td>163.36282</td>\n",
       "      <td>0.04</td>\n",
       "      <td>10.432928</td>\n",
       "      <td>0.743095</td>\n",
       "      <td>4.311036</td>\n",
       "      <td>5.928609</td>\n",
       "      <td>-1.113632</td>\n",
       "      <td>3.829998</td>\n",
       "      <td>...</td>\n",
       "      <td>0.0</td>\n",
       "      <td>0.0</td>\n",
       "      <td>0.0</td>\n",
       "      <td>0.0</td>\n",
       "      <td>0.0</td>\n",
       "      <td>0.0</td>\n",
       "      <td>0.0</td>\n",
       "      <td>0.0</td>\n",
       "      <td>0.0</td>\n",
       "      <td>0.0</td>\n",
       "    </tr>\n",
       "    <tr>\n",
       "      <th>678</th>\n",
       "      <td>MARKER</td>\n",
       "      <td>SP9_END</td>\n",
       "      <td>163.36282</td>\n",
       "      <td>0.00</td>\n",
       "      <td>10.432928</td>\n",
       "      <td>0.743095</td>\n",
       "      <td>4.311036</td>\n",
       "      <td>5.928609</td>\n",
       "      <td>-1.113632</td>\n",
       "      <td>3.829998</td>\n",
       "      <td>...</td>\n",
       "      <td>0.0</td>\n",
       "      <td>0.0</td>\n",
       "      <td>0.0</td>\n",
       "      <td>0.0</td>\n",
       "      <td>0.0</td>\n",
       "      <td>0.0</td>\n",
       "      <td>0.0</td>\n",
       "      <td>0.0</td>\n",
       "      <td>0.0</td>\n",
       "      <td>0.0</td>\n",
       "    </tr>\n",
       "    <tr>\n",
       "      <th>679</th>\n",
       "      <td>MARKER</td>\n",
       "      <td>SYNCHROTRON$END</td>\n",
       "      <td>163.36282</td>\n",
       "      <td>0.00</td>\n",
       "      <td>10.432928</td>\n",
       "      <td>0.743095</td>\n",
       "      <td>4.311036</td>\n",
       "      <td>5.928609</td>\n",
       "      <td>-1.113632</td>\n",
       "      <td>3.829998</td>\n",
       "      <td>...</td>\n",
       "      <td>0.0</td>\n",
       "      <td>0.0</td>\n",
       "      <td>0.0</td>\n",
       "      <td>0.0</td>\n",
       "      <td>0.0</td>\n",
       "      <td>0.0</td>\n",
       "      <td>0.0</td>\n",
       "      <td>0.0</td>\n",
       "      <td>0.0</td>\n",
       "      <td>0.0</td>\n",
       "    </tr>\n",
       "  </tbody>\n",
       "</table>\n",
       "<p>680 rows × 99 columns</p>\n",
       "</div>"
      ],
      "text/plain": [
       "Headers:\n",
       "    NAME: TWISS\n",
       "    TYPE: TWISS\n",
       "    SEQUENCE: SYNCHROTRON\n",
       "    ...\n",
       "    ORIGIN: 5.07.00 Linux 64\n",
       "    DATE: 21/02/22\n",
       "    TIME: 15.22.35\n",
       "\n",
       "    KEYWORD               NAME          S     L       BETX      ALFX  \\\n",
       "0    MARKER  SYNCHROTRON$START    0.00000  0.00  10.432928  0.743095   \n",
       "1    MARKER          SP0_DATUM    0.00000  0.00  10.432928  0.743095   \n",
       "2     SBEND         SP0_DIPFR8    0.16000  0.16  10.195541  0.740409   \n",
       "3     SBEND         SP0_DIPFR9    0.36000  0.20   9.905764  0.708493   \n",
       "4     SBEND        SP0_DIPFR10    0.39000  0.03   9.863400  0.703631   \n",
       "..      ...                ...        ...   ...        ...       ...   \n",
       "675   SBEND           SP9_DIP6  163.12282  0.06  10.759111  0.588435   \n",
       "676   SBEND         SP9_DIPFR6  163.32282  0.20  10.492396  0.743612   \n",
       "677   SBEND         SP9_DIPFR7  163.36282  0.04  10.432928  0.743095   \n",
       "678  MARKER            SP9_END  163.36282  0.00  10.432928  0.743095   \n",
       "679  MARKER    SYNCHROTRON$END  163.36282  0.00  10.432928  0.743095   \n",
       "\n",
       "          MUX      BETY      ALFY       MUY  ...  BETA33  ALFA11  ALFA12  \\\n",
       "0    0.000000  5.928609 -1.113632  0.000000  ...     0.0     0.0     0.0   \n",
       "1    0.000000  5.928609 -1.113632  0.000000  ...     0.0     0.0     0.0   \n",
       "2    0.002469  6.296385 -1.185182  0.004169  ...     0.0     0.0     0.0   \n",
       "3    0.005637  6.785519 -1.260463  0.009039  ...     0.0     0.0     0.0   \n",
       "4    0.006120  6.861483 -1.271688  0.009739  ...     0.0     0.0     0.0   \n",
       "..        ...       ...       ...       ...  ...     ...     ...     ...   \n",
       "675  4.307433  5.432725 -0.943493  3.823261  ...     0.0     0.0     0.0   \n",
       "676  4.310428  5.840227 -1.095944  3.828916  ...     0.0     0.0     0.0   \n",
       "677  4.311036  5.928609 -1.113632  3.829998  ...     0.0     0.0     0.0   \n",
       "678  4.311036  5.928609 -1.113632  3.829998  ...     0.0     0.0     0.0   \n",
       "679  4.311036  5.928609 -1.113632  3.829998  ...     0.0     0.0     0.0   \n",
       "\n",
       "     ALFA13  ALFA21  ALFA22  DISP1  DISP2  DISP3  DISP4  \n",
       "0       0.0     0.0     0.0    0.0    0.0    0.0    0.0  \n",
       "1       0.0     0.0     0.0    0.0    0.0    0.0    0.0  \n",
       "2       0.0     0.0     0.0    0.0    0.0    0.0    0.0  \n",
       "3       0.0     0.0     0.0    0.0    0.0    0.0    0.0  \n",
       "4       0.0     0.0     0.0    0.0    0.0    0.0    0.0  \n",
       "..      ...     ...     ...    ...    ...    ...    ...  \n",
       "675     0.0     0.0     0.0    0.0    0.0    0.0    0.0  \n",
       "676     0.0     0.0     0.0    0.0    0.0    0.0    0.0  \n",
       "677     0.0     0.0     0.0    0.0    0.0    0.0    0.0  \n",
       "678     0.0     0.0     0.0    0.0    0.0    0.0    0.0  \n",
       "679     0.0     0.0     0.0    0.0    0.0    0.0    0.0  \n",
       "\n",
       "[680 rows x 99 columns]"
      ]
     },
     "execution_count": 4,
     "metadata": {},
     "output_type": "execute_result"
    }
   ],
   "source": [
    "input_tfs"
   ]
  },
  {
   "cell_type": "markdown",
   "metadata": {},
   "source": [
    "## Widget definition "
   ]
  },
  {
   "cell_type": "markdown",
   "metadata": {},
   "source": [
    "#### Output handlers"
   ]
  },
  {
   "cell_type": "code",
   "execution_count": 5,
   "metadata": {},
   "outputs": [],
   "source": [
    "output = widgets.Output()\n",
    "plot_output = widgets.Output()"
   ]
  },
  {
   "cell_type": "markdown",
   "metadata": {},
   "source": [
    "#### Dropdown to select TFS column "
   ]
  },
  {
   "cell_type": "code",
   "execution_count": 6,
   "metadata": {},
   "outputs": [],
   "source": [
    "dd_column = widgets.Dropdown(options = input_tfs.keys())"
   ]
  },
  {
   "cell_type": "markdown",
   "metadata": {},
   "source": [
    "#### Slider for S range"
   ]
  },
  {
   "cell_type": "code",
   "execution_count": 7,
   "metadata": {},
   "outputs": [],
   "source": [
    "def generate_tfs_slider(df):\n",
    "    tfs_slider = widgets.IntRangeSlider(\n",
    "    value=[0, 16],\n",
    "    min=np.min(df.S),\n",
    "    max=np.max(df.S+10),\n",
    "    step=5,\n",
    "    description='S Range:',\n",
    "    disabled=False,\n",
    "    continuous_update=False,\n",
    "    orientation='horizontal',\n",
    "    readout=True,\n",
    "    readout_format='d',\n",
    "    )\n",
    "    return tfs_slider"
   ]
  },
  {
   "cell_type": "code",
   "execution_count": 8,
   "metadata": {},
   "outputs": [],
   "source": [
    "tfs_s_slider = generate_tfs_slider(input_tfs)"
   ]
  },
  {
   "cell_type": "markdown",
   "metadata": {},
   "source": [
    "#### Slider for y range"
   ]
  },
  {
   "cell_type": "code",
   "execution_count": 9,
   "metadata": {},
   "outputs": [],
   "source": [
    "tfs_y_slider = widgets.IntRangeSlider(\n",
    "value=[0, 50],\n",
    "min=-100,\n",
    "max=100,\n",
    "step=10,\n",
    "description='Y Range:',\n",
    "disabled=False,\n",
    "continuous_update=False,\n",
    "orientation='vertical',\n",
    "readout=True,\n",
    "readout_format='d',\n",
    ")"
   ]
  },
  {
   "cell_type": "markdown",
   "metadata": {},
   "source": [
    "#### Button to savefig"
   ]
  },
  {
   "cell_type": "code",
   "execution_count": 10,
   "metadata": {},
   "outputs": [],
   "source": [
    "save_button = widgets.Button(description=\"Savefig\")"
   ]
  },
  {
   "cell_type": "markdown",
   "metadata": {},
   "source": [
    "#### Plotting function "
   ]
  },
  {
   "cell_type": "code",
   "execution_count": 11,
   "metadata": {},
   "outputs": [],
   "source": [
    "def madx_tfs_plot_widget(key, xlimits, ylimits, df, save_fig=False):\n",
    "    output.clear_output()\n",
    "    plot_output.clear_output()\n",
    "    \n",
    "    if key == 'BETX':\n",
    "        ylab = r'$\\beta_x$ [m]'\n",
    "        col = 'b'\n",
    "        ls = '-'\n",
    "        lw = 1.5\n",
    "    \n",
    "    elif key == 'BETY':\n",
    "        ylab = r'$\\beta_y$ [m]'\n",
    "        col = 'r'\n",
    "        ls = '-'\n",
    "        lw = 1.5     \n",
    "        \n",
    "    elif key == 'ALFX':\n",
    "        ylab = r'$\\alpha_x$ [-]'\n",
    "        col = 'b'\n",
    "        ls = '-'\n",
    "        lw = 1.0\n",
    "    \n",
    "    elif key == 'ALFY':\n",
    "        ylab = r'$\\alpha_y$ [-]'\n",
    "        col = 'r'\n",
    "        ls = '-'\n",
    "        lw = 1.0\n",
    "    \n",
    "    elif key == 'MUX':\n",
    "        ylab = r'$\\mu_x$ [-]'\n",
    "        col = 'b'\n",
    "        ls = '-'\n",
    "        lw = 1.0\n",
    "    \n",
    "    elif key == 'MUY':\n",
    "        ylab = r'$\\mu_y$ [-]'\n",
    "        col = 'r'\n",
    "        ls = '-'\n",
    "        lw = 1.0        \n",
    "    \n",
    "    elif key == 'DX':\n",
    "        ylab = r'$D_x$ [m]'\n",
    "        col = 'b'\n",
    "        ls = '-'\n",
    "        lw = 1.0\n",
    "    \n",
    "    elif key == 'DY':\n",
    "        ylab = r'$D_y$ [m]'\n",
    "        col = 'r'\n",
    "        ls = '-'\n",
    "        lw = 1.0    \n",
    "        \n",
    "    else:\n",
    "        ylab = key\n",
    "        col = 'k'\n",
    "        ls = '-'\n",
    "        lw = 1.0         \n",
    "    \n",
    "    with plot_output:\n",
    "        \n",
    "        fig1 = plt.figure(facecolor='w', edgecolor='k', figsize=(8.,4.), tight_layout=True)\n",
    "        ax1 = fig1.add_subplot(111)        \n",
    "        \n",
    "        q1 = \"{:.2f}\".format(df.headers['Q1'])\n",
    "        q2 = \"{:.2f}\".format(df.headers['Q2'])\n",
    "        title = df.headers['SEQUENCE'] + ' Qx=' + str(q1) +  ' Qy=' + str(q2)\n",
    "        ax1.set_title(title)\n",
    "        \n",
    "        ax1.set_xlabel('S [m]')\n",
    "        ax1.set_ylabel(ylab)\n",
    "        \n",
    "        ax1.set_xlim(xlimits[0],xlimits[1])\n",
    "        ax1.set_ylim(ylimits[0],ylimits[1])\n",
    "        \n",
    "        ax1.grid(ls=':', lw=0.5, color='grey')\n",
    "        \n",
    "        ax1.plot(df.S, df[key], ls=ls, lw=lw, color=col)\n",
    "        plt.show()\n",
    "        \n",
    "        if save_fig:fig1.savefig(str(key)+'_limits_'+str(xlimits[0])+'_'+str(xlimits[1])+'.png', dpi=200)\n",
    "            "
   ]
  },
  {
   "cell_type": "markdown",
   "metadata": {},
   "source": [
    "#### Widget event handlers"
   ]
  },
  {
   "cell_type": "code",
   "execution_count": 12,
   "metadata": {},
   "outputs": [],
   "source": [
    "def dropdown_key_eventhandler(change):\n",
    "    madx_tfs_plot_widget(change.new, tfs_s_slider.value, tfs_y_slider.value, input_tfs)"
   ]
  },
  {
   "cell_type": "code",
   "execution_count": 13,
   "metadata": {},
   "outputs": [],
   "source": [
    "def s_slider_eventhandler(change):\n",
    "    madx_tfs_plot_widget(dd_column.value, change.new, tfs_y_slider.value, input_tfs)"
   ]
  },
  {
   "cell_type": "code",
   "execution_count": 14,
   "metadata": {},
   "outputs": [],
   "source": [
    "def y_slider_eventhandler(change):\n",
    "    madx_tfs_plot_widget(dd_column.value, tfs_s_slider.value, change.new, input_tfs)"
   ]
  },
  {
   "cell_type": "code",
   "execution_count": 15,
   "metadata": {},
   "outputs": [],
   "source": [
    "def save_button_eventhandler(change):\n",
    "    madx_tfs_plot_widget(dd_column.value, tfs_s_slider.value, tfs_y_slider.value, input_tfs, True)"
   ]
  },
  {
   "cell_type": "code",
   "execution_count": 16,
   "metadata": {},
   "outputs": [],
   "source": [
    "dd_column.observe(dropdown_key_eventhandler, names='value')"
   ]
  },
  {
   "cell_type": "code",
   "execution_count": 17,
   "metadata": {},
   "outputs": [],
   "source": [
    "tfs_s_slider.observe(s_slider_eventhandler, names='value')"
   ]
  },
  {
   "cell_type": "code",
   "execution_count": 18,
   "metadata": {},
   "outputs": [],
   "source": [
    "tfs_y_slider.observe(y_slider_eventhandler, names='value')"
   ]
  },
  {
   "cell_type": "code",
   "execution_count": 19,
   "metadata": {},
   "outputs": [],
   "source": [
    "save_button.on_click(save_button_eventhandler)"
   ]
  },
  {
   "cell_type": "markdown",
   "metadata": {},
   "source": [
    "#### GUI setup"
   ]
  },
  {
   "cell_type": "code",
   "execution_count": 20,
   "metadata": {},
   "outputs": [],
   "source": [
    "item_layout = widgets.Layout(margin='0 0 50px 0')"
   ]
  },
  {
   "cell_type": "code",
   "execution_count": 21,
   "metadata": {},
   "outputs": [],
   "source": [
    "input_widgets = widgets.HBox(\n",
    "[dd_column, tfs_s_slider, tfs_y_slider, save_button],\n",
    "layout=item_layout)\n",
    "tab = widgets.Tab([output, plot_output],\n",
    "layout=item_layout)"
   ]
  },
  {
   "cell_type": "code",
   "execution_count": 22,
   "metadata": {},
   "outputs": [
    {
     "data": {
      "application/vnd.jupyter.widget-view+json": {
       "model_id": "c7562d832b1044eb969378d09a39d100",
       "version_major": 2,
       "version_minor": 0
      },
      "text/plain": [
       "VBox(children=(HBox(children=(Dropdown(options=('KEYWORD', 'NAME', 'S', 'L', 'BETX', 'ALFX', 'MUX', 'BETY', 'A…"
      ]
     },
     "metadata": {},
     "output_type": "display_data"
    }
   ],
   "source": [
    "dashboard = widgets.VBox([input_widgets])\n",
    "display(dashboard)"
   ]
  },
  {
   "cell_type": "code",
   "execution_count": 23,
   "metadata": {},
   "outputs": [
    {
     "data": {
      "application/vnd.jupyter.widget-view+json": {
       "model_id": "4b13d06d317a4dabbef09cb8723c6974",
       "version_major": 2,
       "version_minor": 0
      },
      "text/plain": [
       "Output()"
      ]
     },
     "metadata": {},
     "output_type": "display_data"
    }
   ],
   "source": [
    "display(plot_output)"
   ]
  },
  {
   "cell_type": "code",
   "execution_count": null,
   "metadata": {},
   "outputs": [],
   "source": []
  }
 ],
 "metadata": {
  "kernelspec": {
   "display_name": "Python 3",
   "language": "python",
   "name": "python3"
  },
  "language_info": {
   "codemirror_mode": {
    "name": "ipython",
    "version": 3
   },
   "file_extension": ".py",
   "mimetype": "text/x-python",
   "name": "python",
   "nbconvert_exporter": "python",
   "pygments_lexer": "ipython3",
   "version": "3.10.4"
  }
 },
 "nbformat": 4,
 "nbformat_minor": 4
}
