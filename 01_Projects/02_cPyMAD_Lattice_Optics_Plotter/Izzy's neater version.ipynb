{
 "cells": [
  {
   "cell_type": "code",
   "execution_count": 4,
   "id": "b63bc77b",
   "metadata": {},
   "outputs": [
    {
     "data": {
      "application/vnd.jupyter.widget-view+json": {
       "model_id": "46e256be40744fcc93c8ababe621f5ce",
       "version_major": 2,
       "version_minor": 0
      },
      "text/plain": [
       "Text(value='', description='Enter File Name')"
      ]
     },
     "metadata": {},
     "output_type": "display_data"
    },
    {
     "data": {
      "application/vnd.jupyter.widget-view+json": {
       "model_id": "7b6573db3f854ca8ac312a9186a89068",
       "version_major": 2,
       "version_minor": 0
      },
      "text/plain": [
       "Button(description='Enter', style=ButtonStyle())"
      ]
     },
     "metadata": {},
     "output_type": "display_data"
    },
    {
     "data": {
      "application/vnd.jupyter.widget-view+json": {
       "model_id": "406436a66b86427f9742f543642a1a8d",
       "version_major": 2,
       "version_minor": 0
      },
      "text/plain": [
       "Dropdown(options=('KEYWORD', 'NAME', 'S', 'L', 'BETX', 'ALFX', 'MUX', 'BETY', 'ALFY', 'MUY', 'X', 'PX', 'Y', '…"
      ]
     },
     "metadata": {},
     "output_type": "display_data"
    },
    {
     "data": {
      "application/vnd.jupyter.widget-view+json": {
       "model_id": "23f7ffd861f4472ab66a8e67884a308e",
       "version_major": 2,
       "version_minor": 0
      },
      "text/plain": [
       "Button(description='Enter', style=ButtonStyle())"
      ]
     },
     "metadata": {},
     "output_type": "display_data"
    },
    {
     "data": {
      "application/vnd.jupyter.widget-view+json": {
       "model_id": "34841966d27c415398e93ae4f242136c",
       "version_major": 2,
       "version_minor": 0
      },
      "text/plain": [
       "IntRangeSlider(value=(0, 50), continuous_update=False, description='Y Range:', min=-100, orientation='vertical…"
      ]
     },
     "metadata": {},
     "output_type": "display_data"
    },
    {
     "data": {
      "application/vnd.jupyter.widget-view+json": {
       "model_id": "337a55a95b3e43afbf78262a287f0022",
       "version_major": 2,
       "version_minor": 0
      },
      "text/plain": [
       "Button(description='Enter', style=ButtonStyle())"
      ]
     },
     "metadata": {},
     "output_type": "display_data"
    },
    {
     "data": {
      "application/vnd.jupyter.widget-view+json": {
       "model_id": "b37334078d524a72a4a8b9d050f2ca78",
       "version_major": 2,
       "version_minor": 0
      },
      "text/plain": [
       "IntRangeSlider(value=(0, 16), continuous_update=False, description='S Range:', max=173, step=5)"
      ]
     },
     "metadata": {},
     "output_type": "display_data"
    },
    {
     "data": {
      "application/vnd.jupyter.widget-view+json": {
       "model_id": "d108077313b34e5daf46b842552a9eff",
       "version_major": 2,
       "version_minor": 0
      },
      "text/plain": [
       "Button(description='Enter', style=ButtonStyle())"
      ]
     },
     "metadata": {},
     "output_type": "display_data"
    },
    {
     "data": {
      "application/vnd.jupyter.widget-view+json": {
       "model_id": "cffe0f329422443d83eebc2596ddf2a7",
       "version_major": 2,
       "version_minor": 0
      },
      "text/plain": [
       "Button(description='Savefig', style=ButtonStyle())"
      ]
     },
     "metadata": {},
     "output_type": "display_data"
    },
    {
     "data": {
      "application/vnd.jupyter.widget-view+json": {
       "model_id": "74a0e86be8ab45d6b43ce577837b1063",
       "version_major": 2,
       "version_minor": 0
      },
      "text/plain": [
       "IntRangeSlider(value=(0, 16), continuous_update=False, description='S Range:', max=173, step=5)"
      ]
     },
     "metadata": {},
     "output_type": "display_data"
    },
    {
     "data": {
      "application/vnd.jupyter.widget-view+json": {
       "model_id": "93189705a689438ebc00710e446b4fdd",
       "version_major": 2,
       "version_minor": 0
      },
      "text/plain": [
       "Button(description='Enter', style=ButtonStyle())"
      ]
     },
     "metadata": {},
     "output_type": "display_data"
    },
    {
     "data": {
      "application/vnd.jupyter.widget-view+json": {
       "model_id": "1f0aaa30b1c6408f8c68fc7cd01eed1a",
       "version_major": 2,
       "version_minor": 0
      },
      "text/plain": [
       "Button(description='Savefig', style=ButtonStyle())"
      ]
     },
     "metadata": {},
     "output_type": "display_data"
    },
    {
     "data": {
      "application/vnd.jupyter.widget-view+json": {
       "model_id": "9cf08645b16040169ffe2535a38c40ae",
       "version_major": 2,
       "version_minor": 0
      },
      "text/plain": [
       "IntRangeSlider(value=(0, 50), continuous_update=False, description='Y Range:', min=-100, orientation='vertical…"
      ]
     },
     "metadata": {},
     "output_type": "display_data"
    },
    {
     "data": {
      "application/vnd.jupyter.widget-view+json": {
       "model_id": "1104481517a84e79bc3cdac537bbfb60",
       "version_major": 2,
       "version_minor": 0
      },
      "text/plain": [
       "Button(description='Enter', style=ButtonStyle())"
      ]
     },
     "metadata": {},
     "output_type": "display_data"
    }
   ],
   "source": [
    "#import necessary widgets\n",
    "import ipywidgets as widgets\n",
    "from IPython.display import display\n",
    "import pandas as pd\n",
    "import numpy as np\n",
    "import matplotlib.pyplot as plt\n",
    "import tfs\n",
    "\n",
    "def save_button_eventhandler(change):\n",
    "    madx_tfs_plot_widget(keyword, s_value, y_value, input_tfs, True)\n",
    "    \n",
    "def generate_tfs_s_slider(df):\n",
    "    tfs_s_slider = widgets.IntRangeSlider(\n",
    "    value=[0, 16],\n",
    "    min=np.min(df.S),\n",
    "    max=np.max(df.S+10),\n",
    "    step=5,\n",
    "    description='S Range:',\n",
    "    disabled=False,\n",
    "    continuous_update=False,\n",
    "    orientation='horizontal',\n",
    "    readout=True,\n",
    "    readout_format='d',\n",
    "    )\n",
    "    return tfs_s_slider\n",
    "\n",
    "def generate_tfs_y_slider(df):\n",
    "    tfs_y_slider = widgets.IntRangeSlider(\n",
    "    value=[0, 50],\n",
    "    min=-100,\n",
    "    max=100,\n",
    "    step=10,\n",
    "    description='Y Range:',\n",
    "    disabled=False,\n",
    "    continuous_update=False,\n",
    "    orientation='vertical',\n",
    "    readout=True,\n",
    "    readout_format='d',\n",
    "    )\n",
    "    return tfs_y_slider\n",
    "\n",
    "def madx_tfs_plot_widget(key, xlimits, ylimits, df, save_fig=False):\n",
    "    output.clear_output()\n",
    "    plot_output.clear_output()\n",
    "    \n",
    "    if key == 'BETX':\n",
    "        ylab = r'$\\beta_x$ [m]'\n",
    "        col = 'b'\n",
    "        ls = '-'\n",
    "        lw = 1.5\n",
    "    \n",
    "    elif key == 'BETY':\n",
    "        ylab = r'$\\beta_y$ [m]'\n",
    "        col = 'r'\n",
    "        ls = '-'\n",
    "        lw = 1.5     \n",
    "        \n",
    "    elif key == 'ALFX':\n",
    "        ylab = r'$\\alpha_x$ [-]'\n",
    "        col = 'b'\n",
    "        ls = '-'\n",
    "        lw = 1.0\n",
    "    \n",
    "    elif key == 'ALFY':\n",
    "        ylab = r'$\\alpha_y$ [-]'\n",
    "        col = 'r'\n",
    "        ls = '-'\n",
    "        lw = 1.0\n",
    "    \n",
    "    elif key == 'MUX':\n",
    "        ylab = r'$\\mu_x$ [-]'\n",
    "        col = 'b'\n",
    "        ls = '-'\n",
    "        lw = 1.0\n",
    "    \n",
    "    elif key == 'MUY':\n",
    "        ylab = r'$\\mu_y$ [-]'\n",
    "        col = 'r'\n",
    "        ls = '-'\n",
    "        lw = 1.0        \n",
    "    \n",
    "    elif key == 'DX':\n",
    "        ylab = r'$D_x$ [m]'\n",
    "        col = 'b'\n",
    "        ls = '-'\n",
    "        lw = 1.0\n",
    "    \n",
    "    elif key == 'DY':\n",
    "        ylab = r'$D_y$ [m]'\n",
    "        col = 'r'\n",
    "        ls = '-'\n",
    "        lw = 1.0    \n",
    "        \n",
    "    else:\n",
    "        ylab = key\n",
    "        col = 'k'\n",
    "        ls = '-'\n",
    "        lw = 1.0         \n",
    "    \n",
    "    with plot_output:\n",
    "        \n",
    "        fig1 = plt.figure(facecolor='w', edgecolor='k', figsize=(8.,4.), tight_layout=True)\n",
    "        ax1 = fig1.add_subplot(111)        \n",
    "        \n",
    "        q1 = \"{:.2f}\".format(df.headers['Q1'])\n",
    "        q2 = \"{:.2f}\".format(df.headers['Q2'])\n",
    "        title = df.headers['SEQUENCE'] + ' Qx=' + str(q1) +  ' Qy=' + str(q2)\n",
    "        ax1.set_title(title)\n",
    "        \n",
    "        ax1.set_xlabel('S [m]')\n",
    "        ax1.set_ylabel(ylab)\n",
    "        \n",
    "        ax1.set_xlim(xlimits[0],xlimits[1])\n",
    "        ax1.set_ylim(ylimits[0],ylimits[1])\n",
    "        \n",
    "        ax1.grid(ls=':', lw=0.5, color='grey')\n",
    "        \n",
    "        ax1.plot(df.S, df[key], ls=ls, lw=lw, color=col)\n",
    "        plt.show()\n",
    "        \n",
    "        if save_fig:fig1.savefig(str(key)+'_limits_'+str(xlimits[0])+'_'+str(xlimits[1])+'.png', dpi=200)\n",
    "\n",
    "def On_Enter_Keyword_Clicked(b):\n",
    "    global keyword\n",
    "    global tfs_y_slider\n",
    "    keyword = dd_column.value\n",
    "    #read y value\n",
    "    tfs_y_slider = generate_tfs_y_slider(input_tfs)\n",
    "    display(tfs_y_slider)\n",
    "    enterY = widgets.Button(\n",
    "        description = 'Enter')\n",
    "    display(enterY)\n",
    "    enterY.on_click(On_Enter_Y_Clicked)\n",
    "\n",
    "def On_Enter_Y_Clicked(b):\n",
    "    global y_value\n",
    "    global tfs_s_slider\n",
    "    y_value = tfs_y_slider.value\n",
    "    #read s value\n",
    "    tfs_s_slider = generate_tfs_s_slider(input_tfs)\n",
    "    display(tfs_s_slider)\n",
    "    enterS = widgets.Button(\n",
    "        description = 'Enter')\n",
    "    display(enterS)\n",
    "    enterS.on_click(On_Enter_S_Clicked)\n",
    "\n",
    "def On_Enter_S_Clicked(b):\n",
    "    global s_value\n",
    "    global output\n",
    "    global plot_output\n",
    "    s_value = tfs_s_slider.value \n",
    "    save_button = widgets.Button(description=\"Savefig\")\n",
    "    display(save_button)\n",
    "    save_button.on_click(save_button_eventhandler)\n",
    "    output = widgets.Output()\n",
    "    plot_output = widgets.Output()\n",
    "    \n",
    "def On_Enter_File_Clicked(b):\n",
    "    global dd_column\n",
    "    global input_tfs\n",
    "    input_filename = fileName.value\n",
    "    input_tfs = tfs.reader.read_tfs(input_filename)\n",
    "    #read keyword\n",
    "    dd_column = widgets.Dropdown(options = input_tfs.keys())\n",
    "    display(dd_column)\n",
    "    enterKeyword = widgets.Button(\n",
    "        description = 'Enter')\n",
    "    display(enterKeyword)\n",
    "    enterKeyword.on_click(On_Enter_Keyword_Clicked)\n",
    "\n",
    "def generate_widget():\n",
    "    global fileName\n",
    "    fileName = widgets.Text(\n",
    "        description = \"Enter File Name\")\n",
    "    EnterBox = widgets.Button(\n",
    "        description = 'Enter')\n",
    "    display(fileName)\n",
    "    display(EnterBox)\n",
    "    EnterBox.on_click(On_Enter_File_Clicked)\n",
    "    #Inputs/injection_bump_on.tfs\n",
    "\n",
    "generate_widget()"
   ]
  },
  {
   "cell_type": "code",
   "execution_count": null,
   "id": "9c500f3d",
   "metadata": {},
   "outputs": [],
   "source": []
  }
 ],
 "metadata": {
  "kernelspec": {
   "display_name": "Python 3 (ipykernel)",
   "language": "python",
   "name": "python3"
  },
  "language_info": {
   "codemirror_mode": {
    "name": "ipython",
    "version": 3
   },
   "file_extension": ".py",
   "mimetype": "text/x-python",
   "name": "python",
   "nbconvert_exporter": "python",
   "pygments_lexer": "ipython3",
   "version": "3.9.12"
  }
 },
 "nbformat": 4,
 "nbformat_minor": 5
}
